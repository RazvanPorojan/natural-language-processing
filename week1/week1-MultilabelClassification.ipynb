{
  "nbformat": 4,
  "nbformat_minor": 0,
  "metadata": {
    "kernelspec": {
      "display_name": "Python 3",
      "language": "python",
      "name": "python3"
    },
    "language_info": {
      "codemirror_mode": {
        "name": "ipython",
        "version": 3
      },
      "file_extension": ".py",
      "mimetype": "text/x-python",
      "name": "python",
      "nbconvert_exporter": "python",
      "pygments_lexer": "ipython3",
      "version": "3.4.3"
    },
    "colab": {
      "name": "week1-MultilabelClassification.ipynb",
      "provenance": [],
      "include_colab_link": true
    }
  },
  "cells": [
    {
      "cell_type": "markdown",
      "metadata": {
        "id": "view-in-github",
        "colab_type": "text"
      },
      "source": [
        "<a href=\"https://colab.research.google.com/github/RazvanPorojan/natural-language-processing/blob/master/week1/week1-MultilabelClassification.ipynb\" target=\"_parent\"><img src=\"https://colab.research.google.com/assets/colab-badge.svg\" alt=\"Open In Colab\"/></a>"
      ]
    },
    {
      "cell_type": "markdown",
      "metadata": {
        "id": "42CuinNHM-qq",
        "colab_type": "text"
      },
      "source": [
        "# Predict tags on StackOverflow with linear models"
      ]
    },
    {
      "cell_type": "markdown",
      "metadata": {
        "id": "pb8XhT7EM-qt",
        "colab_type": "text"
      },
      "source": [
        "In this assignment you will learn how to predict tags for posts from [StackOverflow](https://stackoverflow.com). To solve this task you will use multilabel classification approach.\n",
        "\n",
        "### Libraries\n",
        "\n",
        "In this task you will need the following libraries:\n",
        "- [Numpy](http://www.numpy.org) — a package for scientific computing.\n",
        "- [Pandas](https://pandas.pydata.org) — a library providing high-performance, easy-to-use data structures and data analysis tools for the Python\n",
        "- [scikit-learn](http://scikit-learn.org/stable/index.html) — a tool for data mining and data analysis.\n",
        "- [NLTK](http://www.nltk.org) — a platform to work with natural language."
      ]
    },
    {
      "cell_type": "code",
      "metadata": {
        "id": "xYIIfTYkNRxO",
        "colab_type": "code",
        "colab": {
          "base_uri": "https://localhost:8080/",
          "height": 34
        },
        "outputId": "90e2670c-513f-4c4f-f618-01c59ddec864"
      },
      "source": [
        "!git clone https://github.com/hse-aml/natural-language-processing.git"
      ],
      "execution_count": 1,
      "outputs": [
        {
          "output_type": "stream",
          "text": [
            "fatal: destination path 'natural-language-processing' already exists and is not an empty directory.\n"
          ],
          "name": "stdout"
        }
      ]
    },
    {
      "cell_type": "code",
      "metadata": {
        "id": "iGqaok1oNs2b",
        "colab_type": "code",
        "colab": {
          "base_uri": "https://localhost:8080/",
          "height": 34
        },
        "outputId": "9c01de84-ea6a-4c0f-c044-4ba1cc707562"
      },
      "source": [
        "!cd natural-language-processing/;pwd"
      ],
      "execution_count": 2,
      "outputs": [
        {
          "output_type": "stream",
          "text": [
            "/content/natural-language-processing\n"
          ],
          "name": "stdout"
        }
      ]
    },
    {
      "cell_type": "markdown",
      "metadata": {
        "id": "KLOufh5kM-qv",
        "colab_type": "text"
      },
      "source": [
        "### Data\n",
        "\n",
        "The following cell will download all data required for this assignment into the folder `week1/data`."
      ]
    },
    {
      "cell_type": "code",
      "metadata": {
        "id": "WqiPiK1IM-qw",
        "colab_type": "code",
        "colab": {
          "base_uri": "https://localhost:8080/",
          "height": 121
        },
        "outputId": "4fe93748-e9a3-4237-ee0f-d0141261e833"
      },
      "source": [
        "import sys\n",
        "sys.path.append(\"/content/natural-language-processing\")\n",
        "print(sys.path)\n",
        "from common.download_utils import download_week1_resources\n",
        "\n",
        "download_week1_resources()"
      ],
      "execution_count": 3,
      "outputs": [
        {
          "output_type": "stream",
          "text": [
            "['', '/env/python', '/usr/lib/python36.zip', '/usr/lib/python3.6', '/usr/lib/python3.6/lib-dynload', '/usr/local/lib/python3.6/dist-packages', '/usr/lib/python3/dist-packages', '/usr/local/lib/python3.6/dist-packages/IPython/extensions', '/root/.ipython', '/content/natural-language-processing']\n",
            "File data/train.tsv is already downloaded.\n",
            "File data/validation.tsv is already downloaded.\n",
            "File data/test.tsv is already downloaded.\n",
            "File data/text_prepare_tests.tsv is already downloaded.\n"
          ],
          "name": "stdout"
        }
      ]
    },
    {
      "cell_type": "markdown",
      "metadata": {
        "id": "P5kp_tsNM-q0",
        "colab_type": "text"
      },
      "source": [
        "### Grading\n",
        "We will create a grader instance below and use it to collect your answers. Note that these outputs will be stored locally inside grader and will be uploaded to platform only after running submitting function in the last part of this assignment. If you want to make partial submission, you can run that cell any time you want."
      ]
    },
    {
      "cell_type": "code",
      "metadata": {
        "id": "mximCvwzM-q1",
        "colab_type": "code",
        "colab": {}
      },
      "source": [
        "from week1.grader import Grader"
      ],
      "execution_count": 0,
      "outputs": []
    },
    {
      "cell_type": "code",
      "metadata": {
        "id": "7beNErJ0NP2B",
        "colab_type": "code",
        "colab": {}
      },
      "source": [
        ""
      ],
      "execution_count": 0,
      "outputs": []
    },
    {
      "cell_type": "code",
      "metadata": {
        "id": "pWc1AImYM-q4",
        "colab_type": "code",
        "colab": {}
      },
      "source": [
        "grader = Grader()"
      ],
      "execution_count": 0,
      "outputs": []
    },
    {
      "cell_type": "markdown",
      "metadata": {
        "id": "SKfs9ylkM-q8",
        "colab_type": "text"
      },
      "source": [
        "### Text preprocessing"
      ]
    },
    {
      "cell_type": "markdown",
      "metadata": {
        "id": "jYvxpiksM-q9",
        "colab_type": "text"
      },
      "source": [
        "For this and most of the following assignments you will need to use a list of stop words. It can be downloaded from *nltk*:"
      ]
    },
    {
      "cell_type": "code",
      "metadata": {
        "id": "IyE4MBpnM-q-",
        "colab_type": "code",
        "colab": {
          "base_uri": "https://localhost:8080/",
          "height": 50
        },
        "outputId": "40ae4999-6e86-4606-eefc-c38721bb5161"
      },
      "source": [
        "import nltk\n",
        "nltk.download('stopwords')\n",
        "from nltk.corpus import stopwords"
      ],
      "execution_count": 6,
      "outputs": [
        {
          "output_type": "stream",
          "text": [
            "[nltk_data] Downloading package stopwords to /root/nltk_data...\n",
            "[nltk_data]   Package stopwords is already up-to-date!\n"
          ],
          "name": "stdout"
        }
      ]
    },
    {
      "cell_type": "markdown",
      "metadata": {
        "id": "lyvuh61OM-rC",
        "colab_type": "text"
      },
      "source": [
        "In this task you will deal with a dataset of post titles from StackOverflow. You are provided a split to 3 sets: *train*, *validation* and *test*. All corpora (except for *test*) contain titles of the posts and corresponding tags (100 tags are available). The *test* set is provided for Coursera's grading and doesn't contain answers. Upload the corpora using *pandas* and look at the data:"
      ]
    },
    {
      "cell_type": "code",
      "metadata": {
        "id": "1E6uMU-xM-rD",
        "colab_type": "code",
        "colab": {}
      },
      "source": [
        "from ast import literal_eval\n",
        "import pandas as pd\n",
        "import numpy as np"
      ],
      "execution_count": 0,
      "outputs": []
    },
    {
      "cell_type": "code",
      "metadata": {
        "id": "v-N5vDImM-rH",
        "colab_type": "code",
        "colab": {}
      },
      "source": [
        "def read_data(filename):\n",
        "    data = pd.read_csv(filename, sep='\\t')\n",
        "    data['tags'] = data['tags'].apply(literal_eval)\n",
        "    return data"
      ],
      "execution_count": 0,
      "outputs": []
    },
    {
      "cell_type": "code",
      "metadata": {
        "id": "m7t7vbWQM-rK",
        "colab_type": "code",
        "colab": {}
      },
      "source": [
        "train = read_data('data/train.tsv')\n",
        "validation = read_data('data/validation.tsv')\n",
        "test = pd.read_csv('data/test.tsv', sep='\\t')"
      ],
      "execution_count": 0,
      "outputs": []
    },
    {
      "cell_type": "code",
      "metadata": {
        "id": "qCg0JdEKM-rN",
        "colab_type": "code",
        "colab": {
          "base_uri": "https://localhost:8080/",
          "height": 195
        },
        "outputId": "19f543f4-d0aa-4410-abe2-42764f0c07fb"
      },
      "source": [
        "train.head()"
      ],
      "execution_count": 10,
      "outputs": [
        {
          "output_type": "execute_result",
          "data": {
            "text/html": [
              "<div>\n",
              "<style scoped>\n",
              "    .dataframe tbody tr th:only-of-type {\n",
              "        vertical-align: middle;\n",
              "    }\n",
              "\n",
              "    .dataframe tbody tr th {\n",
              "        vertical-align: top;\n",
              "    }\n",
              "\n",
              "    .dataframe thead th {\n",
              "        text-align: right;\n",
              "    }\n",
              "</style>\n",
              "<table border=\"1\" class=\"dataframe\">\n",
              "  <thead>\n",
              "    <tr style=\"text-align: right;\">\n",
              "      <th></th>\n",
              "      <th>title</th>\n",
              "      <th>tags</th>\n",
              "    </tr>\n",
              "  </thead>\n",
              "  <tbody>\n",
              "    <tr>\n",
              "      <th>0</th>\n",
              "      <td>How to draw a stacked dotplot in R?</td>\n",
              "      <td>[r]</td>\n",
              "    </tr>\n",
              "    <tr>\n",
              "      <th>1</th>\n",
              "      <td>mysql select all records where a datetime fiel...</td>\n",
              "      <td>[php, mysql]</td>\n",
              "    </tr>\n",
              "    <tr>\n",
              "      <th>2</th>\n",
              "      <td>How to terminate windows phone 8.1 app</td>\n",
              "      <td>[c#]</td>\n",
              "    </tr>\n",
              "    <tr>\n",
              "      <th>3</th>\n",
              "      <td>get current time in a specific country via jquery</td>\n",
              "      <td>[javascript, jquery]</td>\n",
              "    </tr>\n",
              "    <tr>\n",
              "      <th>4</th>\n",
              "      <td>Configuring Tomcat to Use SSL</td>\n",
              "      <td>[java]</td>\n",
              "    </tr>\n",
              "  </tbody>\n",
              "</table>\n",
              "</div>"
            ],
            "text/plain": [
              "                                               title                  tags\n",
              "0                How to draw a stacked dotplot in R?                   [r]\n",
              "1  mysql select all records where a datetime fiel...          [php, mysql]\n",
              "2             How to terminate windows phone 8.1 app                  [c#]\n",
              "3  get current time in a specific country via jquery  [javascript, jquery]\n",
              "4                      Configuring Tomcat to Use SSL                [java]"
            ]
          },
          "metadata": {
            "tags": []
          },
          "execution_count": 10
        }
      ]
    },
    {
      "cell_type": "markdown",
      "metadata": {
        "id": "EPtG3SUEM-rR",
        "colab_type": "text"
      },
      "source": [
        "As you can see, *title* column contains titles of the posts and *tags* column contains the tags. It could be noticed that a number of tags for a post is not fixed and could be as many as necessary."
      ]
    },
    {
      "cell_type": "markdown",
      "metadata": {
        "id": "IHws8TKTM-rS",
        "colab_type": "text"
      },
      "source": [
        "For a more comfortable usage, initialize *X_train*, *X_val*, *X_test*, *y_train*, *y_val*."
      ]
    },
    {
      "cell_type": "code",
      "metadata": {
        "id": "ojrSJWBAM-rT",
        "colab_type": "code",
        "colab": {}
      },
      "source": [
        "X_train, y_train = train['title'].values, train['tags'].values\n",
        "X_val, y_val = validation['title'].values, validation['tags'].values\n",
        "X_test = test['title'].values"
      ],
      "execution_count": 0,
      "outputs": []
    },
    {
      "cell_type": "markdown",
      "metadata": {
        "id": "FBPVOvT6M-rW",
        "colab_type": "text"
      },
      "source": [
        "One of the most known difficulties when working with natural data is that it's unstructured. For example, if you use it \"as is\" and extract tokens just by splitting the titles by whitespaces, you will see that there are many \"weird\" tokens like *3.5?*, *\"Flip*, etc. To prevent the problems, it's usually useful to prepare the data somehow. In this task you'll write a function, which will be also used in the other assignments. \n",
        "\n",
        "**Task 1 (TextPrepare).** Implement the function *text_prepare* following the instructions. After that, run the function *test_text_prepare* to test it on tiny cases and submit it to Coursera."
      ]
    },
    {
      "cell_type": "code",
      "metadata": {
        "id": "wuQ7iQYfM-rX",
        "colab_type": "code",
        "colab": {}
      },
      "source": [
        "import re"
      ],
      "execution_count": 0,
      "outputs": []
    },
    {
      "cell_type": "code",
      "metadata": {
        "id": "D0HnfGXhM-ra",
        "colab_type": "code",
        "colab": {
          "base_uri": "https://localhost:8080/",
          "height": 50
        },
        "outputId": "9259c57a-4141-46ea-fda3-1f82d8db1b0e"
      },
      "source": [
        "from nltk.tokenize import word_tokenize\n",
        "nltk.download('punkt')\n",
        "from nltk.tokenize.treebank import TreebankWordDetokenizer\n",
        "\n",
        "REPLACE_BY_SPACE_RE = re.compile('[/(){}\\[\\]\\|@,;]')\n",
        "BAD_SYMBOLS_RE = re.compile('[^0-9a-z #+_]')\n",
        "STOPWORDS = set(stopwords.words('english'))\n",
        "\n",
        "def text_prepare(text):\n",
        "    \"\"\"\n",
        "        text: a string\n",
        "        \n",
        "        return: modified initial string\n",
        "    \"\"\"\n",
        "    text = text.lower()\n",
        "    text = REPLACE_BY_SPACE_RE.sub(\" \", text)  # replace REPLACE_BY_SPACE_RE symbols by space in text\n",
        "    text = BAD_SYMBOLS_RE.sub(\"\", text) # delete symbols which are in BAD_SYMBOLS_RE from text\n",
        "    word_tokens = word_tokenize(text) # can use split\n",
        "    #word_tokens = text.split(\" \")\n",
        "    filtered = [w for w in word_tokens if not w in STOPWORDS]  # delete stopwords from text\n",
        "    text = TreebankWordDetokenizer().detokenize(filtered) #can use join\n",
        "    #text = \" \".join(word_tokens)\n",
        "    return text"
      ],
      "execution_count": 13,
      "outputs": [
        {
          "output_type": "stream",
          "text": [
            "[nltk_data] Downloading package punkt to /root/nltk_data...\n",
            "[nltk_data]   Package punkt is already up-to-date!\n"
          ],
          "name": "stdout"
        }
      ]
    },
    {
      "cell_type": "code",
      "metadata": {
        "id": "jIZtksgaM-rd",
        "colab_type": "code",
        "colab": {}
      },
      "source": [
        "def test_text_prepare():\n",
        "    examples = [\"SQL Server - any equivalent of Excel's CHOOSE function?\",\n",
        "                \"How to free c++ memory vector<int> * arr?\"]\n",
        "    answers = [\"sql server equivalent excels choose function\", \n",
        "               \"free c++ memory vectorint arr\"]\n",
        "    for ex, ans in zip(examples, answers):\n",
        "        if text_prepare(ex) != ans:\n",
        "            print(\"ans\", ans)\n",
        "            print(\"f\", text_prepare(ex))\n",
        "            return \"Wrong answer for the case: '%s'\" % ex\n",
        "    return 'Basic tests are passed.'"
      ],
      "execution_count": 0,
      "outputs": []
    },
    {
      "cell_type": "code",
      "metadata": {
        "id": "FwnVtysMM-ri",
        "colab_type": "code",
        "colab": {
          "base_uri": "https://localhost:8080/",
          "height": 34
        },
        "outputId": "1d5769b1-5e64-4cac-e4a2-6e17c33c2f0a"
      },
      "source": [
        "print(test_text_prepare())"
      ],
      "execution_count": 15,
      "outputs": [
        {
          "output_type": "stream",
          "text": [
            "Basic tests are passed.\n"
          ],
          "name": "stdout"
        }
      ]
    },
    {
      "cell_type": "markdown",
      "metadata": {
        "id": "uJOEebBEM-rl",
        "colab_type": "text"
      },
      "source": [
        "Run your implementation for questions from file *text_prepare_tests.tsv* to earn the points."
      ]
    },
    {
      "cell_type": "code",
      "metadata": {
        "id": "w9Y2AJnRM-rm",
        "colab_type": "code",
        "colab": {
          "base_uri": "https://localhost:8080/",
          "height": 101
        },
        "outputId": "65360a07-56c4-4b07-dd8a-82a13cafaa2b"
      },
      "source": [
        "prepared_questions = []\n",
        "for line in open('data/text_prepare_tests.tsv', encoding='utf-8'):\n",
        "    line = text_prepare(line.strip())\n",
        "    prepared_questions.append(line)\n",
        "text_prepare_results = '\\n'.join(prepared_questions)\n",
        "\n",
        "grader.submit_tag('TextPrepare', text_prepare_results)"
      ],
      "execution_count": 16,
      "outputs": [
        {
          "output_type": "stream",
          "text": [
            "Current answer for task TextPrepare is:\n",
            " sqlite php readonly\n",
            "creating multiple textboxes dynamically\n",
            "self one prefer javascript\n",
            "save php date...\n"
          ],
          "name": "stdout"
        }
      ]
    },
    {
      "cell_type": "markdown",
      "metadata": {
        "id": "GRyaOEAsM-rp",
        "colab_type": "text"
      },
      "source": [
        "Now we can preprocess the titles using function *text_prepare* and  making sure that the headers don't have bad symbols:"
      ]
    },
    {
      "cell_type": "code",
      "metadata": {
        "id": "yCdz6uS4M-rp",
        "colab_type": "code",
        "colab": {}
      },
      "source": [
        "X_train = [text_prepare(x) for x in X_train]\n",
        "X_val = [text_prepare(x) for x in X_val]\n",
        "X_test = [text_prepare(x) for x in X_test]"
      ],
      "execution_count": 0,
      "outputs": []
    },
    {
      "cell_type": "code",
      "metadata": {
        "id": "dxMXIBiNM-rs",
        "colab_type": "code",
        "colab": {
          "base_uri": "https://localhost:8080/",
          "height": 67
        },
        "outputId": "eb19f726-3aee-4a31-888f-c5ba7967c071"
      },
      "source": [
        "X_train[:3]"
      ],
      "execution_count": 18,
      "outputs": [
        {
          "output_type": "execute_result",
          "data": {
            "text/plain": [
              "['draw stacked dotplot r',\n",
              " 'mysql select records datetime field less specified value',\n",
              " 'terminate windows phone 81 app']"
            ]
          },
          "metadata": {
            "tags": []
          },
          "execution_count": 18
        }
      ]
    },
    {
      "cell_type": "code",
      "metadata": {
        "id": "5JekEH9GzE35",
        "colab_type": "code",
        "colab": {
          "base_uri": "https://localhost:8080/",
          "height": 101
        },
        "outputId": "d6e74b22-ebad-4979-e155-6db31cce993a"
      },
      "source": [
        "y_train[:10]"
      ],
      "execution_count": 19,
      "outputs": [
        {
          "output_type": "execute_result",
          "data": {
            "text/plain": [
              "array([list(['r']), list(['php', 'mysql']), list(['c#']),\n",
              "       list(['javascript', 'jquery']), list(['java']),\n",
              "       list(['ruby-on-rails']), list(['ruby', 'ruby-on-rails-3', 'json']),\n",
              "       list(['ruby']), list(['java', 'spring', 'spring-mvc']),\n",
              "       list(['php', 'codeigniter'])], dtype=object)"
            ]
          },
          "metadata": {
            "tags": []
          },
          "execution_count": 19
        }
      ]
    },
    {
      "cell_type": "markdown",
      "metadata": {
        "id": "-h-ljoxdM-rv",
        "colab_type": "text"
      },
      "source": [
        "For each tag and for each word calculate how many times they occur in the train corpus. \n",
        "\n",
        "**Task 2 (WordsTagsCount).** Find 3 most popular tags and 3 most popular words in the train data and submit the results to earn the points."
      ]
    },
    {
      "cell_type": "code",
      "metadata": {
        "id": "nfbhBWvoM-rv",
        "colab_type": "code",
        "colab": {}
      },
      "source": [
        "# Dictionary of all tags from train corpus with their counts.\n",
        "tags_counts = {}\n",
        "# Dictionary of all words from train corpus with their counts.\n",
        "words_counts = {}\n",
        "\n",
        "######################################\n",
        "######### YOUR CODE HERE #############\n",
        "######################################\n",
        "from collections import Counter\n",
        "wtokens = []\n",
        "for sen in X_train:\n",
        "  wtokens.extend(word_tokenize(sen))\n",
        "wcount = Counter(wtokens) #word count\n"
      ],
      "execution_count": 0,
      "outputs": []
    },
    {
      "cell_type": "code",
      "metadata": {
        "id": "8ZN6cXFo8UAf",
        "colab_type": "code",
        "colab": {}
      },
      "source": [
        "ttokens = []\n",
        "for tags in y_train:\n",
        "  ttokens.extend(tags)\n",
        "tcount = Counter(ttokens)"
      ],
      "execution_count": 0,
      "outputs": []
    },
    {
      "cell_type": "code",
      "metadata": {
        "id": "cLSVSm2L6WtD",
        "colab_type": "code",
        "colab": {}
      },
      "source": [
        "tags_counts = tcount\n",
        "words_counts = wcount"
      ],
      "execution_count": 0,
      "outputs": []
    },
    {
      "cell_type": "markdown",
      "metadata": {
        "id": "dUPK9KEaM-ry",
        "colab_type": "text"
      },
      "source": [
        "We are assuming that *tags_counts* and *words_counts* are dictionaries like `{'some_word_or_tag': frequency}`. After applying the sorting procedure, results will be look like this: `[('most_popular_word_or_tag', frequency), ('less_popular_word_or_tag', frequency), ...]`. The grader gets the results in the following format (two comma-separated strings with line break):\n",
        "\n",
        "    tag1,tag2,tag3\n",
        "    word1,word2,word3\n",
        "\n",
        "Pay attention that in this assignment you should not submit frequencies or some additional information."
      ]
    },
    {
      "cell_type": "code",
      "metadata": {
        "id": "VEOQUlZVM-rz",
        "colab_type": "code",
        "colab": {
          "base_uri": "https://localhost:8080/",
          "height": 67
        },
        "outputId": "cd7f22e7-cc81-4e90-da2b-03bbede48459"
      },
      "source": [
        "most_common_tags = sorted(tags_counts.items(), key=lambda x: x[1], reverse=True)[:3]\n",
        "most_common_words = sorted(words_counts.items(), key=lambda x: x[1], reverse=True)[:3]\n",
        "\n",
        "grader.submit_tag('WordsTagsCount', '%s\\n%s' % (','.join(tag for tag, _ in most_common_tags), \n",
        "                                                ','.join(word for word, _ in most_common_words)))"
      ],
      "execution_count": 23,
      "outputs": [
        {
          "output_type": "stream",
          "text": [
            "Current answer for task WordsTagsCount is:\n",
            " javascript,c#,java\n",
            "using,c,php...\n"
          ],
          "name": "stdout"
        }
      ]
    },
    {
      "cell_type": "code",
      "metadata": {
        "id": "_ghq8PvV96gd",
        "colab_type": "code",
        "colab": {
          "base_uri": "https://localhost:8080/",
          "height": 34
        },
        "outputId": "acfd4dce-b1a7-4afb-80e6-647f51e44849"
      },
      "source": [
        "most_common_tags"
      ],
      "execution_count": 24,
      "outputs": [
        {
          "output_type": "execute_result",
          "data": {
            "text/plain": [
              "[('javascript', 19078), ('c#', 19077), ('java', 18661)]"
            ]
          },
          "metadata": {
            "tags": []
          },
          "execution_count": 24
        }
      ]
    },
    {
      "cell_type": "markdown",
      "metadata": {
        "id": "iEnsIkyVM-r2",
        "colab_type": "text"
      },
      "source": [
        "### Transforming text to a vector\n",
        "\n",
        "Machine Learning algorithms work with numeric data and we cannot use the provided text data \"as is\". There are many ways to transform text data to numeric vectors. In this task you will try to use two of them.\n",
        "\n",
        "#### Bag of words\n",
        "\n",
        "One of the well-known approaches is a *bag-of-words* representation. To create this transformation, follow the steps:\n",
        "1. Find *N* most popular words in train corpus and numerate them. Now we have a dictionary of the most popular words.\n",
        "2. For each title in the corpora create a zero vector with the dimension equals to *N*.\n",
        "3. For each text in the corpora iterate over words which are in the dictionary and increase by 1 the corresponding coordinate.\n",
        "\n",
        "Let's try to do it for a toy example. Imagine that we have *N* = 4 and the list of the most popular words is \n",
        "\n",
        "    ['hi', 'you', 'me', 'are']\n",
        "\n",
        "Then we need to numerate them, for example, like this: \n",
        "\n",
        "    {'hi': 0, 'you': 1, 'me': 2, 'are': 3}\n",
        "\n",
        "And we have the text, which we want to transform to the vector:\n",
        "\n",
        "    'hi how are you'\n",
        "\n",
        "For this text we create a corresponding zero vector \n",
        "\n",
        "    [0, 0, 0, 0]\n",
        "    \n",
        "And iterate over all words, and if the word is in the dictionary, we increase the value of the corresponding position in the vector:\n",
        "\n",
        "    'hi':  [1, 0, 0, 0]\n",
        "    'how': [1, 0, 0, 0] # word 'how' is not in our dictionary\n",
        "    'are': [1, 0, 0, 1]\n",
        "    'you': [1, 1, 0, 1]\n",
        "\n",
        "The resulting vector will be \n",
        "\n",
        "    [1, 1, 0, 1]\n",
        "   \n",
        "Implement the described encoding in the function *my_bag_of_words* with the size of the dictionary equals to 5000. To find the most common words use train data. You can test your code using the function *test_my_bag_of_words*."
      ]
    },
    {
      "cell_type": "code",
      "metadata": {
        "id": "bBE4M-QtM-r2",
        "colab_type": "code",
        "colab": {}
      },
      "source": [
        "#from sklearn.feature_extraction.text import CountVectorizer\n",
        "#from nltk.tokenize import RegexpTokenizer\n",
        "DICT_SIZE = 5000\n",
        "WORDS_TO_INDEX = {}\n",
        "sortedlist = sorted(words_counts.items(), key=lambda x: x[1], reverse=True)[:DICT_SIZE] ####### YOUR CODE HERE #######\n",
        "i = 0\n",
        "#convert to Python dictionary\n",
        "for pair in sortedlist:\n",
        "  WORDS_TO_INDEX[pair[0]]=i\n",
        "  i += 1\n",
        "\n",
        "\n",
        "INDEX_TO_WORDS = {v: k for k, v in WORDS_TO_INDEX.items()}\n",
        "\n",
        "ALL_WORDS = WORDS_TO_INDEX.keys()\n",
        "\n",
        "def my_bag_of_words(text, words_to_index, dict_size):\n",
        "    \"\"\"\n",
        "        text: a string\n",
        "        dict_size: size of the dictionary\n",
        "        \n",
        "        return a vector which is a bag-of-words representation of 'text'\n",
        "    \"\"\"\n",
        "    result_vector = np.zeros(dict_size)\n",
        "    ######################################\n",
        "    ######### YOUR CODE HERE #############\n",
        "    ######################################\n",
        "    #tokenizer to remove unwanted elements from out data like symbols and numbers\n",
        "    \n",
        "    #tokens = text_prepare2(text) #don't use this because we need stopwordls\n",
        "    tokens = text.split(\" \")\n",
        "    for token in tokens:\n",
        "      if token in words_to_index:\n",
        "        result_vector[words_to_index[token]] += 1\n",
        "    \n",
        "    #cv = CountVectorizer(lowercase=True,stop_words='english',ngram_range = (1,1),tokenizer = token.tokenize, max_features=dict_size, vocabulary=words_to_index)\n",
        "    #result_vector = cv.fit_transform([text])\n",
        "\n",
        "\n",
        "    return result_vector"
      ],
      "execution_count": 0,
      "outputs": []
    },
    {
      "cell_type": "code",
      "metadata": {
        "id": "YmIUJ4p_Y6dB",
        "colab_type": "code",
        "colab": {
          "base_uri": "https://localhost:8080/",
          "height": 67
        },
        "outputId": "e586c15f-10a0-4a9d-c896-0b464b6c599e"
      },
      "source": [
        "#debug function\n",
        "words_to_index = {'hi': 0, 'you': 1, 'me': 2, 'are': 3}\n",
        "examples = ['hi how are you']\n",
        "answers = [[1, 1, 0, 1]]\n",
        "for ex, ans in zip(examples, answers):\n",
        "  print(\"fun\",my_bag_of_words(ex, words_to_index, 4))\n",
        "  print(\"ex\",ex)\n",
        "  print(\"ans\",ans)"
      ],
      "execution_count": 26,
      "outputs": [
        {
          "output_type": "stream",
          "text": [
            "fun [1. 1. 0. 1.]\n",
            "ex hi how are you\n",
            "ans [1, 1, 0, 1]\n"
          ],
          "name": "stdout"
        }
      ]
    },
    {
      "cell_type": "code",
      "metadata": {
        "id": "hPyRBx-UM-r5",
        "colab_type": "code",
        "colab": {}
      },
      "source": [
        "def test_my_bag_of_words():\n",
        "    words_to_index = {'hi': 0, 'you': 1, 'me': 2, 'are': 3}\n",
        "    examples = ['hi how are you']\n",
        "    answers = [[1, 1, 0, 1]]\n",
        "    for ex, ans in zip(examples, answers):\n",
        "        if (my_bag_of_words(ex, words_to_index, 4) != ans).any():\n",
        "            return \"Wrong answer for the case: '%s'\" % ex\n",
        "    return 'Basic tests are passed.'"
      ],
      "execution_count": 0,
      "outputs": []
    },
    {
      "cell_type": "code",
      "metadata": {
        "id": "rIIuArnxM-r_",
        "colab_type": "code",
        "colab": {
          "base_uri": "https://localhost:8080/",
          "height": 34
        },
        "outputId": "c04cedcf-401e-4708-c82c-5013576ec594"
      },
      "source": [
        "print(test_my_bag_of_words())"
      ],
      "execution_count": 28,
      "outputs": [
        {
          "output_type": "stream",
          "text": [
            "Basic tests are passed.\n"
          ],
          "name": "stdout"
        }
      ]
    },
    {
      "cell_type": "markdown",
      "metadata": {
        "id": "ymLTN7aHM-sF",
        "colab_type": "text"
      },
      "source": [
        "Now apply the implemented function to all samples (this might take up to a minute):"
      ]
    },
    {
      "cell_type": "code",
      "metadata": {
        "id": "DQUAJQGuM-sG",
        "colab_type": "code",
        "colab": {}
      },
      "source": [
        "from scipy import sparse as sp_sparse"
      ],
      "execution_count": 0,
      "outputs": []
    },
    {
      "cell_type": "code",
      "metadata": {
        "id": "j8D_Agi5M-sI",
        "colab_type": "code",
        "colab": {
          "base_uri": "https://localhost:8080/",
          "height": 67
        },
        "outputId": "7d95bf97-8408-4a5e-bee2-fcfc5e17f072"
      },
      "source": [
        "X_train_mybag = sp_sparse.vstack([sp_sparse.csr_matrix(my_bag_of_words(text, WORDS_TO_INDEX, DICT_SIZE)) for text in X_train])\n",
        "X_val_mybag = sp_sparse.vstack([sp_sparse.csr_matrix(my_bag_of_words(text, WORDS_TO_INDEX, DICT_SIZE)) for text in X_val])\n",
        "X_test_mybag = sp_sparse.vstack([sp_sparse.csr_matrix(my_bag_of_words(text, WORDS_TO_INDEX, DICT_SIZE)) for text in X_test])\n",
        "print('X_train shape ', X_train_mybag.shape)\n",
        "print('X_val shape ', X_val_mybag.shape)\n",
        "print('X_test shape ', X_test_mybag.shape)"
      ],
      "execution_count": 30,
      "outputs": [
        {
          "output_type": "stream",
          "text": [
            "X_train shape  (100000, 5000)\n",
            "X_val shape  (30000, 5000)\n",
            "X_test shape  (20000, 5000)\n"
          ],
          "name": "stdout"
        }
      ]
    },
    {
      "cell_type": "markdown",
      "metadata": {
        "id": "fxzcF_2fM-sM",
        "colab_type": "text"
      },
      "source": [
        "As you might notice, we transform the data to sparse representation, to store the useful information efficiently. There are many [types](https://docs.scipy.org/doc/scipy/reference/sparse.html) of such representations, however sklearn algorithms can work only with [csr](https://docs.scipy.org/doc/scipy/reference/generated/scipy.sparse.csr_matrix.html#scipy.sparse.csr_matrix) matrix, so we will use this one."
      ]
    },
    {
      "cell_type": "markdown",
      "metadata": {
        "id": "qjGhetSPM-sM",
        "colab_type": "text"
      },
      "source": [
        "**Task 3 (BagOfWords).** For the 11th row in *X_train_mybag* find how many non-zero elements it has. In this task the answer (variable *non_zero_elements_count*) should be a number, e.g. 20."
      ]
    },
    {
      "cell_type": "code",
      "metadata": {
        "id": "-cqjnpXsM-sN",
        "colab_type": "code",
        "colab": {
          "base_uri": "https://localhost:8080/",
          "height": 50
        },
        "outputId": "4bfe0a90-c36d-4e82-b152-48b6cf9de54b"
      },
      "source": [
        "row = X_train_mybag[10].toarray()[0]\n",
        "non_zero_elements_count = sum(x != 0.0 for x in row)\n",
        "grader.submit_tag('BagOfWords', str(non_zero_elements_count))"
      ],
      "execution_count": 31,
      "outputs": [
        {
          "output_type": "stream",
          "text": [
            "Current answer for task BagOfWords is:\n",
            " 7...\n"
          ],
          "name": "stdout"
        }
      ]
    },
    {
      "cell_type": "markdown",
      "metadata": {
        "id": "0G6wZMgUM-sQ",
        "colab_type": "text"
      },
      "source": [
        "#### TF-IDF\n",
        "\n",
        "The second approach extends the bag-of-words framework by taking into account total frequencies of words in the corpora. It helps to penalize too frequent words and provide better features space. \n",
        "\n",
        "Implement function *tfidf_features* using class [TfidfVectorizer](http://scikit-learn.org/stable/modules/generated/sklearn.feature_extraction.text.TfidfVectorizer.html) from *scikit-learn*. Use *train* corpus to train a vectorizer. Don't forget to take a look into the arguments that you can pass to it. We suggest that you filter out too rare words (occur less than in 5 titles) and too frequent words (occur more than in 90% of the titles). Also, use bigrams along with unigrams in your vocabulary. "
      ]
    },
    {
      "cell_type": "code",
      "metadata": {
        "id": "EyeDZn3JM-sQ",
        "colab_type": "code",
        "colab": {}
      },
      "source": [
        "from sklearn.feature_extraction.text import TfidfVectorizer"
      ],
      "execution_count": 0,
      "outputs": []
    },
    {
      "cell_type": "code",
      "metadata": {
        "id": "DB6BR8aQM-sU",
        "colab_type": "code",
        "colab": {}
      },
      "source": [
        "def tfidf_features(X_train, X_val, X_test):\n",
        "    \"\"\"\n",
        "        X_train, X_val, X_test — samples        \n",
        "        return TF-IDF vectorized representation of each sample and vocabulary\n",
        "    \"\"\"\n",
        "    # Create TF-IDF vectorizer with a proper parameters choice\n",
        "    # Fit the vectorizer on the train set\n",
        "    # Transform the train, test, and val sets and return the result\n",
        "    \n",
        "    \n",
        "    tfidf_vectorizer = TfidfVectorizer(ngram_range=(1,2),max_df=.9,min_df=0.00005, token_pattern='(\\S+)')\n",
        "    \n",
        "    ######################################\n",
        "    ######### YOUR CODE HERE #############\n",
        "    ######################################\n",
        "\n",
        "    X_train=tfidf_vectorizer.fit_transform(X_train)\n",
        "    \n",
        "    X_val = tfidf_vectorizer.transform(X_val)\n",
        "    X_test = tfidf_vectorizer.transform(X_test)\n",
        "    \n",
        "    return X_train, X_val, X_test, tfidf_vectorizer.vocabulary_"
      ],
      "execution_count": 0,
      "outputs": []
    },
    {
      "cell_type": "markdown",
      "metadata": {
        "id": "8jXGqphUM-sW",
        "colab_type": "text"
      },
      "source": [
        "Once you have done text preprocessing, always have a look at the results. Be very careful at this step, because the performance of future models will drastically depend on it. \n",
        "\n",
        "In this case, check whether you have c++ or c# in your vocabulary, as they are obviously important tokens in our tags prediction task:"
      ]
    },
    {
      "cell_type": "code",
      "metadata": {
        "id": "_eFAvwjaM-sX",
        "colab_type": "code",
        "colab": {}
      },
      "source": [
        "X_train_tfidf, X_val_tfidf, X_test_tfidf, tfidf_vocab = tfidf_features(X_train, X_val, X_test)\n",
        "tfidf_reversed_vocab = {i:word for word,i in tfidf_vocab.items()}"
      ],
      "execution_count": 0,
      "outputs": []
    },
    {
      "cell_type": "code",
      "metadata": {
        "id": "BAPVLhRFM-sa",
        "colab_type": "code",
        "colab": {
          "base_uri": "https://localhost:8080/",
          "height": 1000
        },
        "outputId": "4e4d3719-e7cf-475b-a708-c41c091b4767"
      },
      "source": [
        "######### YOUR CODE HERE #############\n",
        "tfidf_reversed_vocab"
      ],
      "execution_count": 35,
      "outputs": [
        {
          "output_type": "execute_result",
          "data": {
            "text/plain": [
              "{4838: 'draw',\n",
              " 14959: 'stacked',\n",
              " 12770: 'r',\n",
              " 10425: 'mysql',\n",
              " 14041: 'select',\n",
              " 13029: 'records',\n",
              " 4138: 'datetime',\n",
              " 5865: 'field',\n",
              " 9116: 'less',\n",
              " 14821: 'specified',\n",
              " 17143: 'value',\n",
              " 10457: 'mysql select',\n",
              " 14076: 'select records',\n",
              " 4142: 'datetime field',\n",
              " 15723: 'terminate',\n",
              " 17861: 'windows',\n",
              " 11742: 'phone',\n",
              " 354: '81',\n",
              " 998: 'app',\n",
              " 17884: 'windows phone',\n",
              " 11745: 'phone 81',\n",
              " 355: '81 app',\n",
              " 6712: 'get',\n",
              " 3775: 'current',\n",
              " 15905: 'time',\n",
              " 14776: 'specific',\n",
              " 3584: 'country',\n",
              " 17432: 'via',\n",
              " 8689: 'jquery',\n",
              " 6742: 'get current',\n",
              " 3792: 'current time',\n",
              " 15933: 'time specific',\n",
              " 17446: 'via jquery',\n",
              " 3198: 'configuring',\n",
              " 15996: 'tomcat',\n",
              " 16690: 'use',\n",
              " 14946: 'ssl',\n",
              " 1486: 'awesome',\n",
              " 10581: 'nested',\n",
              " 14348: 'set',\n",
              " 12021: 'plugin',\n",
              " 525: 'add',\n",
              " 10645: 'new',\n",
              " 2644: 'children',\n",
              " 16076: 'tree',\n",
              " 17383: 'various',\n",
              " 9130: 'levels',\n",
              " 571: 'add new',\n",
              " 3607: 'create',\n",
              " 9717: 'map',\n",
              " 8810: 'json',\n",
              " 13422: 'response',\n",
              " 13715: 'ruby',\n",
              " 12799: 'rails',\n",
              " 257: '3',\n",
              " 8838: 'json response',\n",
              " 13730: 'ruby rails',\n",
              " 12801: 'rails 3',\n",
              " 13703: 'rspec',\n",
              " 15730: 'test',\n",
              " 9930: 'method',\n",
              " 2227: 'called',\n",
              " 13706: 'rspec test',\n",
              " 15740: 'test method',\n",
              " 9940: 'method called',\n",
              " 14878: 'springboot',\n",
              " 9157: 'lifecycle',\n",
              " 5550: 'exception',\n",
              " 7701: 'import',\n",
              " 3885: 'data',\n",
              " 5532: 'excel',\n",
              " 4001: 'database',\n",
              " 16819: 'using',\n",
              " 11756: 'php',\n",
              " 7704: 'import data',\n",
              " 3915: 'data excel',\n",
              " 10434: 'mysql database',\n",
              " 4031: 'database using',\n",
              " 16990: 'using php',\n",
              " 11036: 'obtaining',\n",
              " 10914: 'object',\n",
              " 11474: 'parameterized',\n",
              " 16233: 'type',\n",
              " 17931: 'without',\n",
              " 3291: 'constructing',\n",
              " 2682: 'class',\n",
              " 8201: 'ipad',\n",
              " 14115: 'selecting',\n",
              " 15753: 'text',\n",
              " 7952: 'inside',\n",
              " 7867: 'input',\n",
              " 15662: 'tap',\n",
              " 14120: 'selecting text',\n",
              " 15777: 'text inside',\n",
              " 15776: 'text input',\n",
              " 8781: 'jquerys',\n",
              " 6523: 'function',\n",
              " 6573: 'function object',\n",
              " 5003: 'eclipse',\n",
              " 2085: 'c++',\n",
              " 10038: 'mingw',\n",
              " 12370: 'program',\n",
              " 15724: 'terminated',\n",
              " 5005: 'eclipse c++',\n",
              " 8499: 'javascript',\n",
              " 2187: 'call',\n",
              " 11087: 'one',\n",
              " 12477: 'prototype',\n",
              " 889: 'another',\n",
              " 8513: 'javascript call',\n",
              " 2205: 'call one',\n",
              " 12478: 'prototype method',\n",
              " 9934: 'method another',\n",
              " 8129: 'intersection',\n",
              " 9280: 'list',\n",
              " 14410: 'sets',\n",
              " 9532: 'longer',\n",
              " 380: 'able',\n",
              " 7277: 'hide',\n",
              " 8935: 'keyboard',\n",
              " 8195: 'ios7',\n",
              " 5854: 'fetch',\n",
              " 8915: 'key',\n",
              " 15475: 'swift',\n",
              " 8846: 'json swift',\n",
              " 2422: 'change',\n",
              " 11969: 'pivot',\n",
              " 7201: 'header',\n",
              " 15699: 'template',\n",
              " 348: '8',\n",
              " 11744: 'phone 8',\n",
              " 3251: 'connectionstring',\n",
              " 5202: 'encryption',\n",
              " 9121: 'let',\n",
              " 16317: 'ui',\n",
              " 13120: 'refresh',\n",
              " 9522: 'long',\n",
              " 13775: 'running',\n",
              " 11230: 'operation',\n",
              " 9527: 'long running',\n",
              " 1670: 'better',\n",
              " 17611: 'way',\n",
              " 5587: 'execute',\n",
              " 5899: 'file',\n",
              " 12554: 'python',\n",
              " 3260: 'console',\n",
              " 11309: 'output',\n",
              " 13745: 'run',\n",
              " 1672: 'better way',\n",
              " 13725: 'ruby file',\n",
              " 6037: 'file using',\n",
              " 17003: 'using python',\n",
              " 12597: 'python get',\n",
              " 3264: 'console output',\n",
              " 6010: 'file run',\n",
              " 13767: 'run python',\n",
              " 9642: 'make',\n",
              " 197: '2',\n",
              " 15895: 'thumbnails',\n",
              " 2915: 'codeigniter',\n",
              " 8303: 'java',\n",
              " 2502: 'character',\n",
              " 17553: 'vs',\n",
              " 2492: 'char',\n",
              " 9873: 'memory',\n",
              " 16687: 'usage',\n",
              " 9887: 'memory usage',\n",
              " 1781: 'bootstrap',\n",
              " 10093: 'modal',\n",
              " 2846: 'close',\n",
              " 5234: 'enter',\n",
              " 12233: 'press',\n",
              " 1789: 'bootstrap modal',\n",
              " 5235: 'enter key',\n",
              " 8928: 'key press',\n",
              " 9248: 'linq',\n",
              " 12714: 'query',\n",
              " 7101: 'group',\n",
              " 13493: 'retrieving',\n",
              " 11705: 'percentage',\n",
              " 9264: 'linq query',\n",
              " 12722: 'query group',\n",
              " 8979: 'label',\n",
              " 8227: 'issue',\n",
              " 11204: 'openerp',\n",
              " 8901: 'keep',\n",
              " 11005: 'objects',\n",
              " 17469: 'view',\n",
              " 13875: 'scaling',\n",
              " 1494: 'axis',\n",
              " 1405: 'attributeerror',\n",
              " 10751: 'nonetype',\n",
              " 1391: 'attribute',\n",
              " 14838: 'split',\n",
              " 1408: 'attributeerror nonetype',\n",
              " 10752: 'nonetype object',\n",
              " 10920: 'object attribute',\n",
              " 1029: 'append',\n",
              " 9768: 'mat',\n",
              " 13294: 'replace',\n",
              " 11076: 'onclick',\n",
              " 8756: 'jquery replace',\n",
              " 13054: 'redirect',\n",
              " 12393: 'programme',\n",
              " 13062: 'redirect output',\n",
              " 450: 'accesscontrolalloworigin',\n",
              " 12228: 'present',\n",
              " 13359: 'requested',\n",
              " 13404: 'resource',\n",
              " 5296: 'error',\n",
              " 451: 'accesscontrolalloworigin header',\n",
              " 13360: 'requested resource',\n",
              " 3667: 'creating',\n",
              " 1961: 'c',\n",
              " 98: '#using',\n",
              " 7698: 'implicitly',\n",
              " 3414: 'convert',\n",
              " 15145: 'string',\n",
              " 3679: 'creating json',\n",
              " 17864: 'windows 8',\n",
              " 350: '8 c',\n",
              " 2043: 'c #using',\n",
              " 7699: 'implicitly convert',\n",
              " 3467: 'convert type',\n",
              " 16274: 'type string',\n",
              " 4676: 'django',\n",
              " 10130: 'modelform',\n",
              " 4693: 'django modelform',\n",
              " 14474: 'show',\n",
              " 4643: 'div',\n",
              " 14630: 'slide',\n",
              " 14484: 'show hide',\n",
              " 7279: 'hide div',\n",
              " 4663: 'div slide',\n",
              " 8616: 'javascript without',\n",
              " 17953: 'without jquery',\n",
              " 1480: 'avoid',\n",
              " 1899: 'busy',\n",
              " 8998: 'laravel',\n",
              " 288: '4',\n",
              " 13558: 'returns',\n",
              " 679: 'ajax',\n",
              " 12145: 'post',\n",
              " 8999: 'laravel 4',\n",
              " 3887: 'data ajax',\n",
              " 698: 'ajax post',\n",
              " 7148: 'handle',\n",
              " 8693: 'jquery ajax',\n",
              " 18265: 'year',\n",
              " 6585: 'function r',\n",
              " 13497: 'retrofit',\n",
              " 14592: 'singleton',\n",
              " 7113: 'gson',\n",
              " 16903: 'using gson',\n",
              " 3592: 'cpp',\n",
              " 10014: 'mfc',\n",
              " 3519: 'copying',\n",
              " 17680: 'web',\n",
              " 13087: 'reference',\n",
              " 12405: 'project',\n",
              " 17697: 'web reference',\n",
              " 10665: 'new project',\n",
              " 16012: 'top',\n",
              " 6233: 'five',\n",
              " 12738: 'query select',\n",
              " 7915: 'insert',\n",
              " 7770: 'index',\n",
              " 7936: 'insert string',\n",
              " 15246: 'string specific',\n",
              " 949: 'apache',\n",
              " 12038: 'poi',\n",
              " 11369: 'page',\n",
              " 6396: 'format',\n",
              " 18075: 'worksheet',\n",
              " 957: 'apache poi',\n",
              " 2457: 'change page',\n",
              " 5547: 'excel worksheet',\n",
              " 15969: 'tkinter',\n",
              " 12401: 'progress',\n",
              " 1547: 'bar',\n",
              " 12663: 'python tkinter',\n",
              " 12402: 'progress bar',\n",
              " 15088: 'store',\n",
              " 7577: 'image',\n",
              " 11636: 'path',\n",
              " 0: '#',\n",
              " 15094: 'store image',\n",
              " 7626: 'image path',\n",
              " 16842: 'using c',\n",
              " 1962: 'c #',\n",
              " 8633: 'jdbc',\n",
              " 3232: 'connection',\n",
              " 1355: 'associated',\n",
              " 9686: 'managed',\n",
              " 8634: 'jdbc connection',\n",
              " 3238: 'connection error',\n",
              " 10270: 'multiple',\n",
              " 15619: 'tables',\n",
              " 10103: 'model',\n",
              " 18276: 'yii2',\n",
              " 16729: 'use multiple',\n",
              " 10347: 'multiple tables',\n",
              " 15622: 'tables one',\n",
              " 11122: 'one model',\n",
              " 3381: 'controller',\n",
              " 10520: 'names',\n",
              " 1293: 'aspnet',\n",
              " 10418: 'mvc4',\n",
              " 1311: 'aspnet mvc4',\n",
              " 2348: 'casting',\n",
              " 8057: 'integer',\n",
              " 1127: 'array',\n",
              " 8058: 'integer array',\n",
              " 1198: 'array object',\n",
              " 10918: 'object array',\n",
              " 1182: 'array java',\n",
              " 6905: 'getting',\n",
              " 16635: 'uploading',\n",
              " 6913: 'getting error',\n",
              " 5425: 'error uploading',\n",
              " 16636: 'uploading file',\n",
              " 5997: 'file php',\n",
              " 2782: 'clear',\n",
              " 10002: 'methods',\n",
              " 10005: 'methods java',\n",
              " 12298: 'printing',\n",
              " 6274: 'floats',\n",
              " 10845: 'number',\n",
              " 18293: 'zeros',\n",
              " 14801: 'specific number',\n",
              " 14532: 'simple',\n",
              " 10633: 'network',\n",
              " 9140: 'library',\n",
              " 14535: 'simple c',\n",
              " 2061: 'c c++',\n",
              " 17082: 'usr',\n",
              " 1684: 'bin',\n",
              " 8034: 'instead',\n",
              " 9439: 'local',\n",
              " 13791: 'running ruby',\n",
              " 17083: 'usr bin',\n",
              " 17084: 'usr local',\n",
              " 1717: 'bitmap',\n",
              " 1686: 'binary',\n",
              " 11233: 'operations',\n",
              " 4240: 'default',\n",
              " 9614: 'mail',\n",
              " 18040: 'working',\n",
              " 5245: 'entity',\n",
              " 6461: 'framework',\n",
              " 4635: 'distinct',\n",
              " 5249: 'entity framework',\n",
              " 6475: 'framework model',\n",
              " 5744: 'extjs',\n",
              " 2606: 'checked',\n",
              " 10738: 'nodes',\n",
              " 15364: 'submit',\n",
              " 6730: 'get checked',\n",
              " 9353: 'lists',\n",
              " 9265: 'linq select',\n",
              " 10595: 'nested lists',\n",
              " 5066: 'element',\n",
              " 11557: 'pass',\n",
              " 17253: 'values',\n",
              " 7359: 'html',\n",
              " 7281: 'hide element',\n",
              " 11585: 'pass values',\n",
              " 17281: 'values javascript',\n",
              " 8553: 'javascript html',\n",
              " 7379: 'html element',\n",
              " 5091: 'element using',\n",
              " 16924: 'using javascript',\n",
              " 8560: 'javascript jquery',\n",
              " 7815: 'information',\n",
              " 4436: 'dictionary',\n",
              " 6780: 'get information',\n",
              " 14634: 'slidetoggle',\n",
              " 4579: 'display',\n",
              " 3660: 'created',\n",
              " 11197: 'opencv',\n",
              " 813: 'android',\n",
              " 4591: 'display image',\n",
              " 8031: 'instantiating',\n",
              " 10521: 'namespace',\n",
              " 18086: 'wpf',\n",
              " 13919: 'screen',\n",
              " 13394: 'resolution',\n",
              " 13921: 'screen resolution',\n",
              " 3329: 'content',\n",
              " 15012: 'static',\n",
              " 15582: 'table',\n",
              " 2378: 'cell',\n",
              " 4619: 'displayed',\n",
              " 8175: 'ios',\n",
              " 357: '9',\n",
              " 15617: 'table view',\n",
              " 17475: 'view cell',\n",
              " 8181: 'ios 9',\n",
              " 1657: 'best',\n",
              " 1444: 'autocomplete',\n",
              " 15420: 'suggest',\n",
              " 721: 'algorithm',\n",
              " 4081: 'datastructure',\n",
              " 2091: 'c++ c',\n",
              " 1510: 'backbone',\n",
              " 10134: 'modelsave',\n",
              " 14179: 'sending',\n",
              " 12531: 'put',\n",
              " 13075: 'redirects',\n",
              " 6955: 'given',\n",
              " 14323: 'session',\n",
              " 2654: 'chrome',\n",
              " 14336: 'session php',\n",
              " 10392: 'mvc',\n",
              " 12903: 'razor',\n",
              " 10055: 'missing',\n",
              " 2948: 'collections',\n",
              " 6338: 'form',\n",
              " 10396: 'mvc 4',\n",
              " 292: '4 razor',\n",
              " 6370: 'form post',\n",
              " 4093: 'date',\n",
              " 4179: 'ddmmyyyy',\n",
              " 15335: 'style',\n",
              " 4953: 'dynamically',\n",
              " 9232: 'linkbutton',\n",
              " 667: 'affecting',\n",
              " 11298: 'others',\n",
              " 2465: 'change style',\n",
              " 4964: 'dynamically created',\n",
              " 2544: 'check',\n",
              " 12042: 'point',\n",
              " 9176: 'line',\n",
              " 2820: 'client',\n",
              " 13330: 'request',\n",
              " 5820: 'fails',\n",
              " 15945: 'timeout',\n",
              " 14566: 'simultaneously',\n",
              " 476: 'acquire',\n",
              " 16572: 'update',\n",
              " 7056: 'graph',\n",
              " 9790: 'matplotlib',\n",
              " 3988: 'data update',\n",
              " 7059: 'graph using',\n",
              " 12619: 'python matplotlib',\n",
              " 15100: 'store value',\n",
              " 17233: 'value string',\n",
              " 15150: 'string array',\n",
              " 33: '#datatable',\n",
              " 7860: 'inner',\n",
              " 8663: 'join',\n",
              " 4917: 'dynamic',\n",
              " 3004: 'columns',\n",
              " 1988: 'c #datatable',\n",
              " 7864: 'inner join',\n",
              " 4923: 'dynamic columns',\n",
              " 3530: 'correct',\n",
              " 523: 'adapter',\n",
              " 11655: 'pattern',\n",
              " 10995: 'objective',\n",
              " 10996: 'objective c',\n",
              " 13832: 'save',\n",
              " 6288: 'folder',\n",
              " 13841: 'save image',\n",
              " 7580: 'image another',\n",
              " 906: 'another folder',\n",
              " 6298: 'folder using',\n",
              " 16821: 'using ajax',\n",
              " 691: 'ajax jquery',\n",
              " 16713: 'use function',\n",
              " 7555: 'ignore',\n",
              " 13678: 'rows',\n",
              " 14737: 'sorting',\n",
              " 14810: 'specific rows',\n",
              " 4771: 'dom',\n",
              " 850: 'angular',\n",
              " 4524: 'directive',\n",
              " 4772: 'dom element',\n",
              " 854: 'angular directive',\n",
              " 13038: 'rectangles',\n",
              " 10693: 'next',\n",
              " 11477: 'parameters',\n",
              " 16649: 'url',\n",
              " 18289: 'zend',\n",
              " 11484: 'parameters url',\n",
              " 7819: 'inheritance',\n",
              " 408: 'access',\n",
              " 12320: 'problem',\n",
              " 7861: 'inner class',\n",
              " 17251: 'valueerror',\n",
              " 9769: 'match',\n",
              " 11597: 'passing',\n",
              " 14694: 'sockets',\n",
              " 11601: 'passing array',\n",
              " 1185: 'array json',\n",
              " 8829: 'json objects',\n",
              " 2626: 'child',\n",
              " 4357: 'deserializing',\n",
              " 18203: 'xml',\n",
              " 2633: 'child nodes',\n",
              " 4359: 'deserializing xml',\n",
              " 18222: 'xml object',\n",
              " 17416: 'version',\n",
              " 1051: 'application',\n",
              " 5584: 'executable',\n",
              " 3321: 'contains',\n",
              " 16561: 'unsupported',\n",
              " 1094: 'architecture',\n",
              " 7482: 'i386',\n",
              " 1018: 'app version',\n",
              " 1095: 'architecture i386',\n",
              " 3016: 'com',\n",
              " 1225: 'array using',\n",
              " 16854: 'using com',\n",
              " 16680: 'urlopen',\n",
              " 5293: 'errno',\n",
              " 164: '10061',\n",
              " 5339: 'error errno',\n",
              " 16488: 'unique',\n",
              " 3019: 'combination',\n",
              " 1697: 'bind',\n",
              " 4862: 'drop',\n",
              " 6206: 'first',\n",
              " 4178: 'ddl',\n",
              " 4865: 'drop list',\n",
              " 9332: 'list using',\n",
              " 16930: 'using jquery',\n",
              " 2439: 'change first',\n",
              " 269: '31',\n",
              " 5200: 'encrypted',\n",
              " 6658: 'gem',\n",
              " 2772: 'clause',\n",
              " 5886: 'fields',\n",
              " 12803: 'rails 31',\n",
              " 7141: 'hack',\n",
              " 7008: 'google',\n",
              " 9736: 'maps',\n",
              " 963: 'api',\n",
              " 6667: 'generate',\n",
              " 2677: 'city',\n",
              " 14998: 'state',\n",
              " 10488: 'name',\n",
              " 11847: 'php mysql',\n",
              " 7021: 'google maps',\n",
              " 9737: 'maps api',\n",
              " 2678: 'city state',\n",
              " 16513: 'unknown',\n",
              " 15665: 'target',\n",
              " 12437: 'property',\n",
              " 1047: 'applet',\n",
              " 9592: 'mac',\n",
              " 11291: 'os',\n",
              " 13758: 'run java',\n",
              " 8315: 'java applet',\n",
              " 9594: 'mac os',\n",
              " 9057: 'latitude',\n",
              " 9536: 'longitude',\n",
              " 9058: 'latitude longitude',\n",
              " 10203: 'mouseout',\n",
              " 9346: 'listener',\n",
              " 18001: 'wordpress',\n",
              " 7020: 'google map',\n",
              " 6115: 'find',\n",
              " 13644: 'row',\n",
              " 12762: 'quickly',\n",
              " 6158: 'find row',\n",
              " 8204: 'iphone',\n",
              " 3043: 'command',\n",
              " 15722: 'terminal',\n",
              " 13499: 'return',\n",
              " 9794: 'matrix',\n",
              " 10563: 'need',\n",
              " 16068: 'transpose',\n",
              " 1376: 'attach',\n",
              " 4044: 'dataframe',\n",
              " 11488: 'parent',\n",
              " 12384: 'programmatically',\n",
              " 3873: 'd3',\n",
              " 8785: 'js',\n",
              " 15897: 'tick',\n",
              " 14761: 'spacing',\n",
              " 6900: 'gets',\n",
              " 9922: 'messed',\n",
              " 10179: 'month',\n",
              " 1807: 'boundary',\n",
              " 7180: 'hash',\n",
              " 10948: 'object javascript',\n",
              " 14399: 'set timeout',\n",
              " 16766: 'user',\n",
              " 6230: 'fit',\n",
              " 10572: 'needs',\n",
              " 2434: 'change default',\n",
              " 16790: 'user model',\n",
              " 14243: 'serializing',\n",
              " 1462: 'automatically',\n",
              " 7995: 'install',\n",
              " 6197: 'firefox',\n",
              " 10545: 'navbar',\n",
              " 1432: 'auto',\n",
              " 9065: 'layout',\n",
              " 3288: 'constraints',\n",
              " 8091: 'interactive',\n",
              " 8096: 'interface',\n",
              " 1881: 'builder',\n",
              " 1438: 'auto layout',\n",
              " 8098: 'interface builder',\n",
              " 8958: 'kill',\n",
              " 12336: 'process',\n",
              " 15538: 'system',\n",
              " 14454: 'shell',\n",
              " 2638: 'child process',\n",
              " 12344: 'process running',\n",
              " 14455: 'shell command',\n",
              " 14417: 'setting',\n",
              " 15958: 'timezone',\n",
              " 2266: 'cant',\n",
              " 13005: 'recent',\n",
              " 2296: 'cant update',\n",
              " 5767: 'facebook',\n",
              " 7233: 'help',\n",
              " 4426: 'dialog',\n",
              " 5468: 'event',\n",
              " 9385: 'load',\n",
              " 1861: 'browsers',\n",
              " 8722: 'jquery event',\n",
              " 5486: 'event listener',\n",
              " 7617: 'image load',\n",
              " 8082: 'intellij',\n",
              " 3276: 'constant',\n",
              " 5694: 'expression',\n",
              " 13368: 'required',\n",
              " 2334: 'case',\n",
              " 829: 'android java',\n",
              " 3279: 'constant expression',\n",
              " 4871: 'dropdown',\n",
              " 1573: 'based',\n",
              " 5255: 'entries',\n",
              " 4877: 'dropdown select',\n",
              " 14043: 'select based',\n",
              " 1581: 'based database',\n",
              " 17983: 'wont',\n",
              " 18015: 'work',\n",
              " 9596: 'machine',\n",
              " 17990: 'wont work',\n",
              " 9446: 'local machine',\n",
              " 12549: 'pyqt',\n",
              " 4584: 'display data',\n",
              " 3946: 'data mysql',\n",
              " 4028: 'database table',\n",
              " 15614: 'table using',\n",
              " 595: 'addeventlistener',\n",
              " 14148: 'send',\n",
              " 15853: 'thread',\n",
              " 14152: 'send data',\n",
              " 3975: 'data specific',\n",
              " 6283: 'focus',\n",
              " 9369: 'listviewitem',\n",
              " 4740: 'documentgetelementbyid',\n",
              " 7865: 'innerhtml',\n",
              " 7535: 'ie8',\n",
              " 18054: 'working ie8',\n",
              " 5047: 'efficient',\n",
              " 8039: 'int',\n",
              " 8158: 'inverse',\n",
              " 3460: 'convert string',\n",
              " 15205: 'string int',\n",
              " 5024: 'edit',\n",
              " 16231: 'txt',\n",
              " 14798: 'specific line',\n",
              " 9201: 'line txt',\n",
              " 16232: 'txt file',\n",
              " 5916: 'file c',\n",
              " 3182: 'conditionally',\n",
              " 6101: 'filter',\n",
              " 8217: 'iqueryable',\n",
              " 6689: 'generic',\n",
              " 13323: 'repository',\n",
              " 16281: 'type using',\n",
              " 16891: 'using generic',\n",
              " 6700: 'generic repository',\n",
              " 13324: 'repository pattern',\n",
              " 6804: 'get memory',\n",
              " 12812: 'rails app',\n",
              " 8137: 'invalid',\n",
              " 7799: 'indirect',\n",
              " 16127: 'trying',\n",
              " 16133: 'trying convert',\n",
              " 2117: 'c++ java',\n",
              " 13023: 'record',\n",
              " 7927: 'insert multiple',\n",
              " 13026: 'record table',\n",
              " 15588: 'table codeigniter',\n",
              " 14889: 'sql',\n",
              " 3458: 'convert sql',\n",
              " 14906: 'sql query',\n",
              " 12726: 'query linq',\n",
              " 11624: 'password',\n",
              " 12421: 'prompt',\n",
              " 13135: 'regex',\n",
              " 10571: 'needed',\n",
              " 4940: 'dynamic string',\n",
              " 15259: 'string value',\n",
              " 11993: 'play',\n",
              " 17467: 'videos',\n",
              " 17745: 'website',\n",
              " 1667: 'best way',\n",
              " 12962: 'reading',\n",
              " 15054: 'stdin',\n",
              " 1746: 'blocking',\n",
              " 12970: 'reading line',\n",
              " 9194: 'line line',\n",
              " 17935: 'without blocking',\n",
              " 17457: 'video',\n",
              " 11067: 'old',\n",
              " 13438: 'rest',\n",
              " 13439: 'rest api',\n",
              " 3039: 'comma',\n",
              " 14208: 'separated',\n",
              " 2940: 'collection',\n",
              " 14851: 'spring',\n",
              " 3041: 'comma separated',\n",
              " 14212: 'separated string',\n",
              " 15208: 'string java',\n",
              " 8332: 'java collection',\n",
              " 14866: 'spring form',\n",
              " 2614: 'checking',\n",
              " 9859: 'member',\n",
              " 15293: 'struct',\n",
              " 5071: 'element c',\n",
              " 2080: 'c struct',\n",
              " 15294: 'struct array',\n",
              " 7085: 'gridview',\n",
              " 5680: 'export',\n",
              " 7090: 'gridview data',\n",
              " 5683: 'export excel',\n",
              " 15961: 'tinymce',\n",
              " 12004: 'player',\n",
              " 9850: 'media',\n",
              " 14835: 'splash',\n",
              " 404: 'accepts',\n",
              " 2747: 'class use',\n",
              " 16749: 'use spring',\n",
              " 3749: 'csv',\n",
              " 15280: 'stringsplit',\n",
              " 4896: 'due',\n",
              " 1730: 'blank',\n",
              " 7703: 'import csv',\n",
              " 3751: 'csv file',\n",
              " 9132: 'li',\n",
              " 10709: 'ngmodel',\n",
              " 14982: 'start',\n",
              " 1728: 'blackberry',\n",
              " 12395: 'programming',\n",
              " 14004: 'searching',\n",
              " 13979: 'sdk',\n",
              " 12758: 'quick',\n",
              " 8209: 'iphone sdk',\n",
              " 54: '#get',\n",
              " 4530: 'directory',\n",
              " 2007: 'c #get',\n",
              " 4537: 'directory name',\n",
              " 2972: 'column',\n",
              " 11057: 'odd',\n",
              " 5463: 'even',\n",
              " 10881: 'numbers',\n",
              " 15870: 'threads',\n",
              " 11058: 'odd even',\n",
              " 5464: 'even numbers',\n",
              " 10893: 'numbers using',\n",
              " 778: 'alternatives',\n",
              " 12418: 'projects',\n",
              " 8674: 'joomla',\n",
              " 4890: 'drupal',\n",
              " 1343: 'assign',\n",
              " 42: '#dynamic',\n",
              " 17312: 'variable',\n",
              " 12431: 'properties',\n",
              " 1995: 'c #dynamic',\n",
              " 4939: 'dynamic object',\n",
              " 6819: 'get parameters',\n",
              " 5883: 'field value',\n",
              " 17211: 'value object',\n",
              " 914: 'another object',\n",
              " 455: 'accessing',\n",
              " 6972: 'global',\n",
              " 11084: 'onclicklistener',\n",
              " 457: 'accessing global',\n",
              " 6977: 'global variable',\n",
              " 17331: 'variable inside',\n",
              " 1104: 'argument',\n",
              " 16379: 'uml',\n",
              " 1108: 'argument list',\n",
              " 12213: 'preg_replace',\n",
              " 3770: 'curly',\n",
              " 1828: 'brackets',\n",
              " 275: '323',\n",
              " 1894: 'bundler',\n",
              " 3546: 'could',\n",
              " 3096: 'compatible',\n",
              " 17425: 'versions',\n",
              " 12805: 'rails 323',\n",
              " 3554: 'could find',\n",
              " 108: '#windows',\n",
              " 5580: 'exe',\n",
              " 2050: 'c #windows',\n",
              " 111: '#windows form',\n",
              " 8885: 'junit',\n",
              " 13315: 'report',\n",
              " 15669: 'task',\n",
              " 5786: 'facebooks',\n",
              " 14653: 'sms',\n",
              " 1841: 'broadcast',\n",
              " 13001: 'receiver',\n",
              " 15654: 'takes',\n",
              " 7296: 'highest',\n",
              " 12305: 'priority',\n",
              " 12994: 'reboot',\n",
              " 9107: 'length',\n",
              " 138: '0',\n",
              " 1950: 'bypass',\n",
              " 2836: 'clientside',\n",
              " 17124: 'validation',\n",
              " 2837: 'clientside validation',\n",
              " 13809: 'rvm',\n",
              " 8004: 'installation',\n",
              " 16308: 'ubuntu',\n",
              " 8005: 'installation error',\n",
              " 5417: 'error ubuntu',\n",
              " 16095: 'trigger',\n",
              " 2324: 'carousel',\n",
              " 16098: 'trigger event',\n",
              " 1784: 'bootstrap carousel',\n",
              " 12488: 'proxy',\n",
              " 3189: 'configuration',\n",
              " 16380: 'unable',\n",
              " 13076: 'redirecttoaction',\n",
              " 2280: 'cant get',\n",
              " 8275: 'iterators',\n",
              " 7746: 'incompatible',\n",
              " 4374: 'destruction',\n",
              " 4326: 'dependent',\n",
              " 3293: 'constructor',\n",
              " 3294: 'constructor call',\n",
              " 1537: 'bad',\n",
              " 7890: 'input line',\n",
              " 15511: 'symfony2',\n",
              " 6426: 'forms',\n",
              " 11259: 'options',\n",
              " 16708: 'use dynamic',\n",
              " 14073: 'select options',\n",
              " 10780: 'notfoundhttpexception',\n",
              " 15363: 'submission',\n",
              " 7162: 'handling',\n",
              " 17134: 'validation multiple',\n",
              " 10297: 'multiple forms',\n",
              " 16104: 'triggers',\n",
              " 11262: 'oracle',\n",
              " 10173: 'mongoose',\n",
              " 2221: 'callback',\n",
              " 437: 'access specific',\n",
              " 14816: 'specific value',\n",
              " 17779: 'well',\n",
              " 16605: 'updating',\n",
              " 10131: 'models',\n",
              " 314: '5',\n",
              " 2299: 'canvas',\n",
              " 8231: 'issues',\n",
              " 7360: 'html 5',\n",
              " 3092: 'comparison',\n",
              " 17359: 'variables',\n",
              " 12063: 'pointing',\n",
              " 11507: 'parse',\n",
              " 11513: 'parse json',\n",
              " 8814: 'json data',\n",
              " 3953: 'data php',\n",
              " 12128: 'possible',\n",
              " 8883: 'jump',\n",
              " 16017: 'top page',\n",
              " 11383: 'page form',\n",
              " 6377: 'form submit',\n",
              " 13821: 'safely',\n",
              " 4372: 'destroy',\n",
              " 17832: 'window',\n",
              " 18157: 'wxpython',\n",
              " 7742: 'includes',\n",
              " 15566: 'systems',\n",
              " 11825: 'php includes',\n",
              " 9689: 'managepy',\n",
              " 13799: 'runserver',\n",
              " 9690: 'managepy runserver',\n",
              " 13854: 'saving',\n",
              " 6460: 'frames',\n",
              " 13862: 'saving multiple',\n",
              " 10286: 'multiple data',\n",
              " 3922: 'data frames',\n",
              " 13511: 'return function',\n",
              " 3097: 'compilation',\n",
              " 6443: 'found',\n",
              " 3098: 'compilation error',\n",
              " 5415: 'error type',\n",
              " 16264: 'type namespace',\n",
              " 10523: 'namespace name',\n",
              " 3555: 'could found',\n",
              " 11517: 'parsecom',\n",
              " 9136: 'libgdx',\n",
              " 7686: 'implementation',\n",
              " 7542: 'iframe',\n",
              " 12116: 'position',\n",
              " 597: 'adding',\n",
              " 8503: 'javascript adding',\n",
              " 618: 'adding text',\n",
              " 15775: 'text image',\n",
              " 7651: 'image using',\n",
              " 16845: 'using canvas',\n",
              " 13847: 'save value',\n",
              " 17174: 'value drop',\n",
              " 2170: 'calculate',\n",
              " 3536: 'correlation',\n",
              " 13217: 'remove',\n",
              " 11153: 'ones',\n",
              " 11434: 'pandas',\n",
              " 12633: 'python pandas',\n",
              " 11247: 'optimizations',\n",
              " 1846: 'browser',\n",
              " 11709: 'perform',\n",
              " 13278: 'rendered',\n",
              " 4315: 'denied',\n",
              " 14292: 'service',\n",
              " 4276: 'delegate',\n",
              " 9617: 'mail client',\n",
              " 2832: 'client using',\n",
              " 3569: 'count',\n",
              " 4059: 'datagridview',\n",
              " 17262: 'values column',\n",
              " 2982: 'column datagridview',\n",
              " 4063: 'datagridview column',\n",
              " 13903: 'scipy',\n",
              " 1875: 'build',\n",
              " 11296: 'osx',\n",
              " 9595: 'mac osx',\n",
              " 8198: 'ip',\n",
              " 624: 'address',\n",
              " 9760: 'mask',\n",
              " 15811: 'textbox',\n",
              " 8199: 'ip address',\n",
              " 17391: 'vbnet',\n",
              " 3058: 'commands',\n",
              " 8382: 'java library',\n",
              " 14092: 'selected',\n",
              " 2909: 'codebehind',\n",
              " 6849: 'get selected',\n",
              " 14108: 'selected value',\n",
              " 17235: 'value text',\n",
              " 15774: 'text html',\n",
              " 7403: 'html select',\n",
              " 13457: 'restrict',\n",
              " 8688: 'jqgrid',\n",
              " 15806: 'textarea',\n",
              " 7222: 'height',\n",
              " 7076: 'grid',\n",
              " 15478: 'swift 3',\n",
              " 5034: 'editor',\n",
              " 14232: 'serialization',\n",
              " 18230: 'xml serialization',\n",
              " 5712: 'extend',\n",
              " 8328: 'java class',\n",
              " 2732: 'class one',\n",
              " 5571: 'exceptions',\n",
              " 7131: 'guidelines',\n",
              " 16450: 'understand',\n",
              " 15749: 'testng',\n",
              " 15425: 'suite',\n",
              " 3196: 'configure',\n",
              " 17734: 'webpage',\n",
              " 5537: 'excel data',\n",
              " 11455: 'parameter',\n",
              " 11354: 'owin',\n",
              " 7327: 'host',\n",
              " 11577: 'pass parameter',\n",
              " 13851: 'saved',\n",
              " 12856: 'rake',\n",
              " 5436: 'errors',\n",
              " 9423: 'loading',\n",
              " 8962: 'kind',\n",
              " 10389: 'mutex',\n",
              " 2182: 'calculation',\n",
              " 5242: 'entities',\n",
              " 9252: 'linq entities',\n",
              " 5243: 'entities query',\n",
              " 4456: 'difference',\n",
              " 2877: 'cocos2dx',\n",
              " 9582: 'lua',\n",
              " 1702: 'binding',\n",
              " 13380: 'reset',\n",
              " 862: 'angularjs',\n",
              " 17413: 'verify',\n",
              " 1813: 'box',\n",
              " 2811: 'clicked',\n",
              " 2546: 'check box',\n",
              " 15302: 'structure',\n",
              " ...}"
            ]
          },
          "metadata": {
            "tags": []
          },
          "execution_count": 35
        }
      ]
    },
    {
      "cell_type": "markdown",
      "metadata": {
        "id": "BgHHXcTVM-sc",
        "colab_type": "text"
      },
      "source": [
        "If you can't find it, we need to understand how did it happen that we lost them? It happened during the built-in tokenization of TfidfVectorizer. Luckily, we can influence on this process. Get back to the function above and use '(\\S+)' regexp as a *token_pattern* in the constructor of the vectorizer.  "
      ]
    },
    {
      "cell_type": "markdown",
      "metadata": {
        "id": "zmQGsHxQM-sd",
        "colab_type": "text"
      },
      "source": [
        "Now, use this transormation for the data and check again."
      ]
    },
    {
      "cell_type": "code",
      "metadata": {
        "id": "9fJ25OYlM-se",
        "colab_type": "code",
        "colab": {
          "base_uri": "https://localhost:8080/",
          "height": 1000
        },
        "outputId": "60fd0436-e63a-4d2e-a96f-e2ee179c87ae"
      },
      "source": [
        "######### YOUR CODE HERE #############\n",
        "tfidf_reversed_vocab"
      ],
      "execution_count": 36,
      "outputs": [
        {
          "output_type": "execute_result",
          "data": {
            "text/plain": [
              "{4838: 'draw',\n",
              " 14959: 'stacked',\n",
              " 12770: 'r',\n",
              " 10425: 'mysql',\n",
              " 14041: 'select',\n",
              " 13029: 'records',\n",
              " 4138: 'datetime',\n",
              " 5865: 'field',\n",
              " 9116: 'less',\n",
              " 14821: 'specified',\n",
              " 17143: 'value',\n",
              " 10457: 'mysql select',\n",
              " 14076: 'select records',\n",
              " 4142: 'datetime field',\n",
              " 15723: 'terminate',\n",
              " 17861: 'windows',\n",
              " 11742: 'phone',\n",
              " 354: '81',\n",
              " 998: 'app',\n",
              " 17884: 'windows phone',\n",
              " 11745: 'phone 81',\n",
              " 355: '81 app',\n",
              " 6712: 'get',\n",
              " 3775: 'current',\n",
              " 15905: 'time',\n",
              " 14776: 'specific',\n",
              " 3584: 'country',\n",
              " 17432: 'via',\n",
              " 8689: 'jquery',\n",
              " 6742: 'get current',\n",
              " 3792: 'current time',\n",
              " 15933: 'time specific',\n",
              " 17446: 'via jquery',\n",
              " 3198: 'configuring',\n",
              " 15996: 'tomcat',\n",
              " 16690: 'use',\n",
              " 14946: 'ssl',\n",
              " 1486: 'awesome',\n",
              " 10581: 'nested',\n",
              " 14348: 'set',\n",
              " 12021: 'plugin',\n",
              " 525: 'add',\n",
              " 10645: 'new',\n",
              " 2644: 'children',\n",
              " 16076: 'tree',\n",
              " 17383: 'various',\n",
              " 9130: 'levels',\n",
              " 571: 'add new',\n",
              " 3607: 'create',\n",
              " 9717: 'map',\n",
              " 8810: 'json',\n",
              " 13422: 'response',\n",
              " 13715: 'ruby',\n",
              " 12799: 'rails',\n",
              " 257: '3',\n",
              " 8838: 'json response',\n",
              " 13730: 'ruby rails',\n",
              " 12801: 'rails 3',\n",
              " 13703: 'rspec',\n",
              " 15730: 'test',\n",
              " 9930: 'method',\n",
              " 2227: 'called',\n",
              " 13706: 'rspec test',\n",
              " 15740: 'test method',\n",
              " 9940: 'method called',\n",
              " 14878: 'springboot',\n",
              " 9157: 'lifecycle',\n",
              " 5550: 'exception',\n",
              " 7701: 'import',\n",
              " 3885: 'data',\n",
              " 5532: 'excel',\n",
              " 4001: 'database',\n",
              " 16819: 'using',\n",
              " 11756: 'php',\n",
              " 7704: 'import data',\n",
              " 3915: 'data excel',\n",
              " 10434: 'mysql database',\n",
              " 4031: 'database using',\n",
              " 16990: 'using php',\n",
              " 11036: 'obtaining',\n",
              " 10914: 'object',\n",
              " 11474: 'parameterized',\n",
              " 16233: 'type',\n",
              " 17931: 'without',\n",
              " 3291: 'constructing',\n",
              " 2682: 'class',\n",
              " 8201: 'ipad',\n",
              " 14115: 'selecting',\n",
              " 15753: 'text',\n",
              " 7952: 'inside',\n",
              " 7867: 'input',\n",
              " 15662: 'tap',\n",
              " 14120: 'selecting text',\n",
              " 15777: 'text inside',\n",
              " 15776: 'text input',\n",
              " 8781: 'jquerys',\n",
              " 6523: 'function',\n",
              " 6573: 'function object',\n",
              " 5003: 'eclipse',\n",
              " 2085: 'c++',\n",
              " 10038: 'mingw',\n",
              " 12370: 'program',\n",
              " 15724: 'terminated',\n",
              " 5005: 'eclipse c++',\n",
              " 8499: 'javascript',\n",
              " 2187: 'call',\n",
              " 11087: 'one',\n",
              " 12477: 'prototype',\n",
              " 889: 'another',\n",
              " 8513: 'javascript call',\n",
              " 2205: 'call one',\n",
              " 12478: 'prototype method',\n",
              " 9934: 'method another',\n",
              " 8129: 'intersection',\n",
              " 9280: 'list',\n",
              " 14410: 'sets',\n",
              " 9532: 'longer',\n",
              " 380: 'able',\n",
              " 7277: 'hide',\n",
              " 8935: 'keyboard',\n",
              " 8195: 'ios7',\n",
              " 5854: 'fetch',\n",
              " 8915: 'key',\n",
              " 15475: 'swift',\n",
              " 8846: 'json swift',\n",
              " 2422: 'change',\n",
              " 11969: 'pivot',\n",
              " 7201: 'header',\n",
              " 15699: 'template',\n",
              " 348: '8',\n",
              " 11744: 'phone 8',\n",
              " 3251: 'connectionstring',\n",
              " 5202: 'encryption',\n",
              " 9121: 'let',\n",
              " 16317: 'ui',\n",
              " 13120: 'refresh',\n",
              " 9522: 'long',\n",
              " 13775: 'running',\n",
              " 11230: 'operation',\n",
              " 9527: 'long running',\n",
              " 1670: 'better',\n",
              " 17611: 'way',\n",
              " 5587: 'execute',\n",
              " 5899: 'file',\n",
              " 12554: 'python',\n",
              " 3260: 'console',\n",
              " 11309: 'output',\n",
              " 13745: 'run',\n",
              " 1672: 'better way',\n",
              " 13725: 'ruby file',\n",
              " 6037: 'file using',\n",
              " 17003: 'using python',\n",
              " 12597: 'python get',\n",
              " 3264: 'console output',\n",
              " 6010: 'file run',\n",
              " 13767: 'run python',\n",
              " 9642: 'make',\n",
              " 197: '2',\n",
              " 15895: 'thumbnails',\n",
              " 2915: 'codeigniter',\n",
              " 8303: 'java',\n",
              " 2502: 'character',\n",
              " 17553: 'vs',\n",
              " 2492: 'char',\n",
              " 9873: 'memory',\n",
              " 16687: 'usage',\n",
              " 9887: 'memory usage',\n",
              " 1781: 'bootstrap',\n",
              " 10093: 'modal',\n",
              " 2846: 'close',\n",
              " 5234: 'enter',\n",
              " 12233: 'press',\n",
              " 1789: 'bootstrap modal',\n",
              " 5235: 'enter key',\n",
              " 8928: 'key press',\n",
              " 9248: 'linq',\n",
              " 12714: 'query',\n",
              " 7101: 'group',\n",
              " 13493: 'retrieving',\n",
              " 11705: 'percentage',\n",
              " 9264: 'linq query',\n",
              " 12722: 'query group',\n",
              " 8979: 'label',\n",
              " 8227: 'issue',\n",
              " 11204: 'openerp',\n",
              " 8901: 'keep',\n",
              " 11005: 'objects',\n",
              " 17469: 'view',\n",
              " 13875: 'scaling',\n",
              " 1494: 'axis',\n",
              " 1405: 'attributeerror',\n",
              " 10751: 'nonetype',\n",
              " 1391: 'attribute',\n",
              " 14838: 'split',\n",
              " 1408: 'attributeerror nonetype',\n",
              " 10752: 'nonetype object',\n",
              " 10920: 'object attribute',\n",
              " 1029: 'append',\n",
              " 9768: 'mat',\n",
              " 13294: 'replace',\n",
              " 11076: 'onclick',\n",
              " 8756: 'jquery replace',\n",
              " 13054: 'redirect',\n",
              " 12393: 'programme',\n",
              " 13062: 'redirect output',\n",
              " 450: 'accesscontrolalloworigin',\n",
              " 12228: 'present',\n",
              " 13359: 'requested',\n",
              " 13404: 'resource',\n",
              " 5296: 'error',\n",
              " 451: 'accesscontrolalloworigin header',\n",
              " 13360: 'requested resource',\n",
              " 3667: 'creating',\n",
              " 1961: 'c',\n",
              " 98: '#using',\n",
              " 7698: 'implicitly',\n",
              " 3414: 'convert',\n",
              " 15145: 'string',\n",
              " 3679: 'creating json',\n",
              " 17864: 'windows 8',\n",
              " 350: '8 c',\n",
              " 2043: 'c #using',\n",
              " 7699: 'implicitly convert',\n",
              " 3467: 'convert type',\n",
              " 16274: 'type string',\n",
              " 4676: 'django',\n",
              " 10130: 'modelform',\n",
              " 4693: 'django modelform',\n",
              " 14474: 'show',\n",
              " 4643: 'div',\n",
              " 14630: 'slide',\n",
              " 14484: 'show hide',\n",
              " 7279: 'hide div',\n",
              " 4663: 'div slide',\n",
              " 8616: 'javascript without',\n",
              " 17953: 'without jquery',\n",
              " 1480: 'avoid',\n",
              " 1899: 'busy',\n",
              " 8998: 'laravel',\n",
              " 288: '4',\n",
              " 13558: 'returns',\n",
              " 679: 'ajax',\n",
              " 12145: 'post',\n",
              " 8999: 'laravel 4',\n",
              " 3887: 'data ajax',\n",
              " 698: 'ajax post',\n",
              " 7148: 'handle',\n",
              " 8693: 'jquery ajax',\n",
              " 18265: 'year',\n",
              " 6585: 'function r',\n",
              " 13497: 'retrofit',\n",
              " 14592: 'singleton',\n",
              " 7113: 'gson',\n",
              " 16903: 'using gson',\n",
              " 3592: 'cpp',\n",
              " 10014: 'mfc',\n",
              " 3519: 'copying',\n",
              " 17680: 'web',\n",
              " 13087: 'reference',\n",
              " 12405: 'project',\n",
              " 17697: 'web reference',\n",
              " 10665: 'new project',\n",
              " 16012: 'top',\n",
              " 6233: 'five',\n",
              " 12738: 'query select',\n",
              " 7915: 'insert',\n",
              " 7770: 'index',\n",
              " 7936: 'insert string',\n",
              " 15246: 'string specific',\n",
              " 949: 'apache',\n",
              " 12038: 'poi',\n",
              " 11369: 'page',\n",
              " 6396: 'format',\n",
              " 18075: 'worksheet',\n",
              " 957: 'apache poi',\n",
              " 2457: 'change page',\n",
              " 5547: 'excel worksheet',\n",
              " 15969: 'tkinter',\n",
              " 12401: 'progress',\n",
              " 1547: 'bar',\n",
              " 12663: 'python tkinter',\n",
              " 12402: 'progress bar',\n",
              " 15088: 'store',\n",
              " 7577: 'image',\n",
              " 11636: 'path',\n",
              " 0: '#',\n",
              " 15094: 'store image',\n",
              " 7626: 'image path',\n",
              " 16842: 'using c',\n",
              " 1962: 'c #',\n",
              " 8633: 'jdbc',\n",
              " 3232: 'connection',\n",
              " 1355: 'associated',\n",
              " 9686: 'managed',\n",
              " 8634: 'jdbc connection',\n",
              " 3238: 'connection error',\n",
              " 10270: 'multiple',\n",
              " 15619: 'tables',\n",
              " 10103: 'model',\n",
              " 18276: 'yii2',\n",
              " 16729: 'use multiple',\n",
              " 10347: 'multiple tables',\n",
              " 15622: 'tables one',\n",
              " 11122: 'one model',\n",
              " 3381: 'controller',\n",
              " 10520: 'names',\n",
              " 1293: 'aspnet',\n",
              " 10418: 'mvc4',\n",
              " 1311: 'aspnet mvc4',\n",
              " 2348: 'casting',\n",
              " 8057: 'integer',\n",
              " 1127: 'array',\n",
              " 8058: 'integer array',\n",
              " 1198: 'array object',\n",
              " 10918: 'object array',\n",
              " 1182: 'array java',\n",
              " 6905: 'getting',\n",
              " 16635: 'uploading',\n",
              " 6913: 'getting error',\n",
              " 5425: 'error uploading',\n",
              " 16636: 'uploading file',\n",
              " 5997: 'file php',\n",
              " 2782: 'clear',\n",
              " 10002: 'methods',\n",
              " 10005: 'methods java',\n",
              " 12298: 'printing',\n",
              " 6274: 'floats',\n",
              " 10845: 'number',\n",
              " 18293: 'zeros',\n",
              " 14801: 'specific number',\n",
              " 14532: 'simple',\n",
              " 10633: 'network',\n",
              " 9140: 'library',\n",
              " 14535: 'simple c',\n",
              " 2061: 'c c++',\n",
              " 17082: 'usr',\n",
              " 1684: 'bin',\n",
              " 8034: 'instead',\n",
              " 9439: 'local',\n",
              " 13791: 'running ruby',\n",
              " 17083: 'usr bin',\n",
              " 17084: 'usr local',\n",
              " 1717: 'bitmap',\n",
              " 1686: 'binary',\n",
              " 11233: 'operations',\n",
              " 4240: 'default',\n",
              " 9614: 'mail',\n",
              " 18040: 'working',\n",
              " 5245: 'entity',\n",
              " 6461: 'framework',\n",
              " 4635: 'distinct',\n",
              " 5249: 'entity framework',\n",
              " 6475: 'framework model',\n",
              " 5744: 'extjs',\n",
              " 2606: 'checked',\n",
              " 10738: 'nodes',\n",
              " 15364: 'submit',\n",
              " 6730: 'get checked',\n",
              " 9353: 'lists',\n",
              " 9265: 'linq select',\n",
              " 10595: 'nested lists',\n",
              " 5066: 'element',\n",
              " 11557: 'pass',\n",
              " 17253: 'values',\n",
              " 7359: 'html',\n",
              " 7281: 'hide element',\n",
              " 11585: 'pass values',\n",
              " 17281: 'values javascript',\n",
              " 8553: 'javascript html',\n",
              " 7379: 'html element',\n",
              " 5091: 'element using',\n",
              " 16924: 'using javascript',\n",
              " 8560: 'javascript jquery',\n",
              " 7815: 'information',\n",
              " 4436: 'dictionary',\n",
              " 6780: 'get information',\n",
              " 14634: 'slidetoggle',\n",
              " 4579: 'display',\n",
              " 3660: 'created',\n",
              " 11197: 'opencv',\n",
              " 813: 'android',\n",
              " 4591: 'display image',\n",
              " 8031: 'instantiating',\n",
              " 10521: 'namespace',\n",
              " 18086: 'wpf',\n",
              " 13919: 'screen',\n",
              " 13394: 'resolution',\n",
              " 13921: 'screen resolution',\n",
              " 3329: 'content',\n",
              " 15012: 'static',\n",
              " 15582: 'table',\n",
              " 2378: 'cell',\n",
              " 4619: 'displayed',\n",
              " 8175: 'ios',\n",
              " 357: '9',\n",
              " 15617: 'table view',\n",
              " 17475: 'view cell',\n",
              " 8181: 'ios 9',\n",
              " 1657: 'best',\n",
              " 1444: 'autocomplete',\n",
              " 15420: 'suggest',\n",
              " 721: 'algorithm',\n",
              " 4081: 'datastructure',\n",
              " 2091: 'c++ c',\n",
              " 1510: 'backbone',\n",
              " 10134: 'modelsave',\n",
              " 14179: 'sending',\n",
              " 12531: 'put',\n",
              " 13075: 'redirects',\n",
              " 6955: 'given',\n",
              " 14323: 'session',\n",
              " 2654: 'chrome',\n",
              " 14336: 'session php',\n",
              " 10392: 'mvc',\n",
              " 12903: 'razor',\n",
              " 10055: 'missing',\n",
              " 2948: 'collections',\n",
              " 6338: 'form',\n",
              " 10396: 'mvc 4',\n",
              " 292: '4 razor',\n",
              " 6370: 'form post',\n",
              " 4093: 'date',\n",
              " 4179: 'ddmmyyyy',\n",
              " 15335: 'style',\n",
              " 4953: 'dynamically',\n",
              " 9232: 'linkbutton',\n",
              " 667: 'affecting',\n",
              " 11298: 'others',\n",
              " 2465: 'change style',\n",
              " 4964: 'dynamically created',\n",
              " 2544: 'check',\n",
              " 12042: 'point',\n",
              " 9176: 'line',\n",
              " 2820: 'client',\n",
              " 13330: 'request',\n",
              " 5820: 'fails',\n",
              " 15945: 'timeout',\n",
              " 14566: 'simultaneously',\n",
              " 476: 'acquire',\n",
              " 16572: 'update',\n",
              " 7056: 'graph',\n",
              " 9790: 'matplotlib',\n",
              " 3988: 'data update',\n",
              " 7059: 'graph using',\n",
              " 12619: 'python matplotlib',\n",
              " 15100: 'store value',\n",
              " 17233: 'value string',\n",
              " 15150: 'string array',\n",
              " 33: '#datatable',\n",
              " 7860: 'inner',\n",
              " 8663: 'join',\n",
              " 4917: 'dynamic',\n",
              " 3004: 'columns',\n",
              " 1988: 'c #datatable',\n",
              " 7864: 'inner join',\n",
              " 4923: 'dynamic columns',\n",
              " 3530: 'correct',\n",
              " 523: 'adapter',\n",
              " 11655: 'pattern',\n",
              " 10995: 'objective',\n",
              " 10996: 'objective c',\n",
              " 13832: 'save',\n",
              " 6288: 'folder',\n",
              " 13841: 'save image',\n",
              " 7580: 'image another',\n",
              " 906: 'another folder',\n",
              " 6298: 'folder using',\n",
              " 16821: 'using ajax',\n",
              " 691: 'ajax jquery',\n",
              " 16713: 'use function',\n",
              " 7555: 'ignore',\n",
              " 13678: 'rows',\n",
              " 14737: 'sorting',\n",
              " 14810: 'specific rows',\n",
              " 4771: 'dom',\n",
              " 850: 'angular',\n",
              " 4524: 'directive',\n",
              " 4772: 'dom element',\n",
              " 854: 'angular directive',\n",
              " 13038: 'rectangles',\n",
              " 10693: 'next',\n",
              " 11477: 'parameters',\n",
              " 16649: 'url',\n",
              " 18289: 'zend',\n",
              " 11484: 'parameters url',\n",
              " 7819: 'inheritance',\n",
              " 408: 'access',\n",
              " 12320: 'problem',\n",
              " 7861: 'inner class',\n",
              " 17251: 'valueerror',\n",
              " 9769: 'match',\n",
              " 11597: 'passing',\n",
              " 14694: 'sockets',\n",
              " 11601: 'passing array',\n",
              " 1185: 'array json',\n",
              " 8829: 'json objects',\n",
              " 2626: 'child',\n",
              " 4357: 'deserializing',\n",
              " 18203: 'xml',\n",
              " 2633: 'child nodes',\n",
              " 4359: 'deserializing xml',\n",
              " 18222: 'xml object',\n",
              " 17416: 'version',\n",
              " 1051: 'application',\n",
              " 5584: 'executable',\n",
              " 3321: 'contains',\n",
              " 16561: 'unsupported',\n",
              " 1094: 'architecture',\n",
              " 7482: 'i386',\n",
              " 1018: 'app version',\n",
              " 1095: 'architecture i386',\n",
              " 3016: 'com',\n",
              " 1225: 'array using',\n",
              " 16854: 'using com',\n",
              " 16680: 'urlopen',\n",
              " 5293: 'errno',\n",
              " 164: '10061',\n",
              " 5339: 'error errno',\n",
              " 16488: 'unique',\n",
              " 3019: 'combination',\n",
              " 1697: 'bind',\n",
              " 4862: 'drop',\n",
              " 6206: 'first',\n",
              " 4178: 'ddl',\n",
              " 4865: 'drop list',\n",
              " 9332: 'list using',\n",
              " 16930: 'using jquery',\n",
              " 2439: 'change first',\n",
              " 269: '31',\n",
              " 5200: 'encrypted',\n",
              " 6658: 'gem',\n",
              " 2772: 'clause',\n",
              " 5886: 'fields',\n",
              " 12803: 'rails 31',\n",
              " 7141: 'hack',\n",
              " 7008: 'google',\n",
              " 9736: 'maps',\n",
              " 963: 'api',\n",
              " 6667: 'generate',\n",
              " 2677: 'city',\n",
              " 14998: 'state',\n",
              " 10488: 'name',\n",
              " 11847: 'php mysql',\n",
              " 7021: 'google maps',\n",
              " 9737: 'maps api',\n",
              " 2678: 'city state',\n",
              " 16513: 'unknown',\n",
              " 15665: 'target',\n",
              " 12437: 'property',\n",
              " 1047: 'applet',\n",
              " 9592: 'mac',\n",
              " 11291: 'os',\n",
              " 13758: 'run java',\n",
              " 8315: 'java applet',\n",
              " 9594: 'mac os',\n",
              " 9057: 'latitude',\n",
              " 9536: 'longitude',\n",
              " 9058: 'latitude longitude',\n",
              " 10203: 'mouseout',\n",
              " 9346: 'listener',\n",
              " 18001: 'wordpress',\n",
              " 7020: 'google map',\n",
              " 6115: 'find',\n",
              " 13644: 'row',\n",
              " 12762: 'quickly',\n",
              " 6158: 'find row',\n",
              " 8204: 'iphone',\n",
              " 3043: 'command',\n",
              " 15722: 'terminal',\n",
              " 13499: 'return',\n",
              " 9794: 'matrix',\n",
              " 10563: 'need',\n",
              " 16068: 'transpose',\n",
              " 1376: 'attach',\n",
              " 4044: 'dataframe',\n",
              " 11488: 'parent',\n",
              " 12384: 'programmatically',\n",
              " 3873: 'd3',\n",
              " 8785: 'js',\n",
              " 15897: 'tick',\n",
              " 14761: 'spacing',\n",
              " 6900: 'gets',\n",
              " 9922: 'messed',\n",
              " 10179: 'month',\n",
              " 1807: 'boundary',\n",
              " 7180: 'hash',\n",
              " 10948: 'object javascript',\n",
              " 14399: 'set timeout',\n",
              " 16766: 'user',\n",
              " 6230: 'fit',\n",
              " 10572: 'needs',\n",
              " 2434: 'change default',\n",
              " 16790: 'user model',\n",
              " 14243: 'serializing',\n",
              " 1462: 'automatically',\n",
              " 7995: 'install',\n",
              " 6197: 'firefox',\n",
              " 10545: 'navbar',\n",
              " 1432: 'auto',\n",
              " 9065: 'layout',\n",
              " 3288: 'constraints',\n",
              " 8091: 'interactive',\n",
              " 8096: 'interface',\n",
              " 1881: 'builder',\n",
              " 1438: 'auto layout',\n",
              " 8098: 'interface builder',\n",
              " 8958: 'kill',\n",
              " 12336: 'process',\n",
              " 15538: 'system',\n",
              " 14454: 'shell',\n",
              " 2638: 'child process',\n",
              " 12344: 'process running',\n",
              " 14455: 'shell command',\n",
              " 14417: 'setting',\n",
              " 15958: 'timezone',\n",
              " 2266: 'cant',\n",
              " 13005: 'recent',\n",
              " 2296: 'cant update',\n",
              " 5767: 'facebook',\n",
              " 7233: 'help',\n",
              " 4426: 'dialog',\n",
              " 5468: 'event',\n",
              " 9385: 'load',\n",
              " 1861: 'browsers',\n",
              " 8722: 'jquery event',\n",
              " 5486: 'event listener',\n",
              " 7617: 'image load',\n",
              " 8082: 'intellij',\n",
              " 3276: 'constant',\n",
              " 5694: 'expression',\n",
              " 13368: 'required',\n",
              " 2334: 'case',\n",
              " 829: 'android java',\n",
              " 3279: 'constant expression',\n",
              " 4871: 'dropdown',\n",
              " 1573: 'based',\n",
              " 5255: 'entries',\n",
              " 4877: 'dropdown select',\n",
              " 14043: 'select based',\n",
              " 1581: 'based database',\n",
              " 17983: 'wont',\n",
              " 18015: 'work',\n",
              " 9596: 'machine',\n",
              " 17990: 'wont work',\n",
              " 9446: 'local machine',\n",
              " 12549: 'pyqt',\n",
              " 4584: 'display data',\n",
              " 3946: 'data mysql',\n",
              " 4028: 'database table',\n",
              " 15614: 'table using',\n",
              " 595: 'addeventlistener',\n",
              " 14148: 'send',\n",
              " 15853: 'thread',\n",
              " 14152: 'send data',\n",
              " 3975: 'data specific',\n",
              " 6283: 'focus',\n",
              " 9369: 'listviewitem',\n",
              " 4740: 'documentgetelementbyid',\n",
              " 7865: 'innerhtml',\n",
              " 7535: 'ie8',\n",
              " 18054: 'working ie8',\n",
              " 5047: 'efficient',\n",
              " 8039: 'int',\n",
              " 8158: 'inverse',\n",
              " 3460: 'convert string',\n",
              " 15205: 'string int',\n",
              " 5024: 'edit',\n",
              " 16231: 'txt',\n",
              " 14798: 'specific line',\n",
              " 9201: 'line txt',\n",
              " 16232: 'txt file',\n",
              " 5916: 'file c',\n",
              " 3182: 'conditionally',\n",
              " 6101: 'filter',\n",
              " 8217: 'iqueryable',\n",
              " 6689: 'generic',\n",
              " 13323: 'repository',\n",
              " 16281: 'type using',\n",
              " 16891: 'using generic',\n",
              " 6700: 'generic repository',\n",
              " 13324: 'repository pattern',\n",
              " 6804: 'get memory',\n",
              " 12812: 'rails app',\n",
              " 8137: 'invalid',\n",
              " 7799: 'indirect',\n",
              " 16127: 'trying',\n",
              " 16133: 'trying convert',\n",
              " 2117: 'c++ java',\n",
              " 13023: 'record',\n",
              " 7927: 'insert multiple',\n",
              " 13026: 'record table',\n",
              " 15588: 'table codeigniter',\n",
              " 14889: 'sql',\n",
              " 3458: 'convert sql',\n",
              " 14906: 'sql query',\n",
              " 12726: 'query linq',\n",
              " 11624: 'password',\n",
              " 12421: 'prompt',\n",
              " 13135: 'regex',\n",
              " 10571: 'needed',\n",
              " 4940: 'dynamic string',\n",
              " 15259: 'string value',\n",
              " 11993: 'play',\n",
              " 17467: 'videos',\n",
              " 17745: 'website',\n",
              " 1667: 'best way',\n",
              " 12962: 'reading',\n",
              " 15054: 'stdin',\n",
              " 1746: 'blocking',\n",
              " 12970: 'reading line',\n",
              " 9194: 'line line',\n",
              " 17935: 'without blocking',\n",
              " 17457: 'video',\n",
              " 11067: 'old',\n",
              " 13438: 'rest',\n",
              " 13439: 'rest api',\n",
              " 3039: 'comma',\n",
              " 14208: 'separated',\n",
              " 2940: 'collection',\n",
              " 14851: 'spring',\n",
              " 3041: 'comma separated',\n",
              " 14212: 'separated string',\n",
              " 15208: 'string java',\n",
              " 8332: 'java collection',\n",
              " 14866: 'spring form',\n",
              " 2614: 'checking',\n",
              " 9859: 'member',\n",
              " 15293: 'struct',\n",
              " 5071: 'element c',\n",
              " 2080: 'c struct',\n",
              " 15294: 'struct array',\n",
              " 7085: 'gridview',\n",
              " 5680: 'export',\n",
              " 7090: 'gridview data',\n",
              " 5683: 'export excel',\n",
              " 15961: 'tinymce',\n",
              " 12004: 'player',\n",
              " 9850: 'media',\n",
              " 14835: 'splash',\n",
              " 404: 'accepts',\n",
              " 2747: 'class use',\n",
              " 16749: 'use spring',\n",
              " 3749: 'csv',\n",
              " 15280: 'stringsplit',\n",
              " 4896: 'due',\n",
              " 1730: 'blank',\n",
              " 7703: 'import csv',\n",
              " 3751: 'csv file',\n",
              " 9132: 'li',\n",
              " 10709: 'ngmodel',\n",
              " 14982: 'start',\n",
              " 1728: 'blackberry',\n",
              " 12395: 'programming',\n",
              " 14004: 'searching',\n",
              " 13979: 'sdk',\n",
              " 12758: 'quick',\n",
              " 8209: 'iphone sdk',\n",
              " 54: '#get',\n",
              " 4530: 'directory',\n",
              " 2007: 'c #get',\n",
              " 4537: 'directory name',\n",
              " 2972: 'column',\n",
              " 11057: 'odd',\n",
              " 5463: 'even',\n",
              " 10881: 'numbers',\n",
              " 15870: 'threads',\n",
              " 11058: 'odd even',\n",
              " 5464: 'even numbers',\n",
              " 10893: 'numbers using',\n",
              " 778: 'alternatives',\n",
              " 12418: 'projects',\n",
              " 8674: 'joomla',\n",
              " 4890: 'drupal',\n",
              " 1343: 'assign',\n",
              " 42: '#dynamic',\n",
              " 17312: 'variable',\n",
              " 12431: 'properties',\n",
              " 1995: 'c #dynamic',\n",
              " 4939: 'dynamic object',\n",
              " 6819: 'get parameters',\n",
              " 5883: 'field value',\n",
              " 17211: 'value object',\n",
              " 914: 'another object',\n",
              " 455: 'accessing',\n",
              " 6972: 'global',\n",
              " 11084: 'onclicklistener',\n",
              " 457: 'accessing global',\n",
              " 6977: 'global variable',\n",
              " 17331: 'variable inside',\n",
              " 1104: 'argument',\n",
              " 16379: 'uml',\n",
              " 1108: 'argument list',\n",
              " 12213: 'preg_replace',\n",
              " 3770: 'curly',\n",
              " 1828: 'brackets',\n",
              " 275: '323',\n",
              " 1894: 'bundler',\n",
              " 3546: 'could',\n",
              " 3096: 'compatible',\n",
              " 17425: 'versions',\n",
              " 12805: 'rails 323',\n",
              " 3554: 'could find',\n",
              " 108: '#windows',\n",
              " 5580: 'exe',\n",
              " 2050: 'c #windows',\n",
              " 111: '#windows form',\n",
              " 8885: 'junit',\n",
              " 13315: 'report',\n",
              " 15669: 'task',\n",
              " 5786: 'facebooks',\n",
              " 14653: 'sms',\n",
              " 1841: 'broadcast',\n",
              " 13001: 'receiver',\n",
              " 15654: 'takes',\n",
              " 7296: 'highest',\n",
              " 12305: 'priority',\n",
              " 12994: 'reboot',\n",
              " 9107: 'length',\n",
              " 138: '0',\n",
              " 1950: 'bypass',\n",
              " 2836: 'clientside',\n",
              " 17124: 'validation',\n",
              " 2837: 'clientside validation',\n",
              " 13809: 'rvm',\n",
              " 8004: 'installation',\n",
              " 16308: 'ubuntu',\n",
              " 8005: 'installation error',\n",
              " 5417: 'error ubuntu',\n",
              " 16095: 'trigger',\n",
              " 2324: 'carousel',\n",
              " 16098: 'trigger event',\n",
              " 1784: 'bootstrap carousel',\n",
              " 12488: 'proxy',\n",
              " 3189: 'configuration',\n",
              " 16380: 'unable',\n",
              " 13076: 'redirecttoaction',\n",
              " 2280: 'cant get',\n",
              " 8275: 'iterators',\n",
              " 7746: 'incompatible',\n",
              " 4374: 'destruction',\n",
              " 4326: 'dependent',\n",
              " 3293: 'constructor',\n",
              " 3294: 'constructor call',\n",
              " 1537: 'bad',\n",
              " 7890: 'input line',\n",
              " 15511: 'symfony2',\n",
              " 6426: 'forms',\n",
              " 11259: 'options',\n",
              " 16708: 'use dynamic',\n",
              " 14073: 'select options',\n",
              " 10780: 'notfoundhttpexception',\n",
              " 15363: 'submission',\n",
              " 7162: 'handling',\n",
              " 17134: 'validation multiple',\n",
              " 10297: 'multiple forms',\n",
              " 16104: 'triggers',\n",
              " 11262: 'oracle',\n",
              " 10173: 'mongoose',\n",
              " 2221: 'callback',\n",
              " 437: 'access specific',\n",
              " 14816: 'specific value',\n",
              " 17779: 'well',\n",
              " 16605: 'updating',\n",
              " 10131: 'models',\n",
              " 314: '5',\n",
              " 2299: 'canvas',\n",
              " 8231: 'issues',\n",
              " 7360: 'html 5',\n",
              " 3092: 'comparison',\n",
              " 17359: 'variables',\n",
              " 12063: 'pointing',\n",
              " 11507: 'parse',\n",
              " 11513: 'parse json',\n",
              " 8814: 'json data',\n",
              " 3953: 'data php',\n",
              " 12128: 'possible',\n",
              " 8883: 'jump',\n",
              " 16017: 'top page',\n",
              " 11383: 'page form',\n",
              " 6377: 'form submit',\n",
              " 13821: 'safely',\n",
              " 4372: 'destroy',\n",
              " 17832: 'window',\n",
              " 18157: 'wxpython',\n",
              " 7742: 'includes',\n",
              " 15566: 'systems',\n",
              " 11825: 'php includes',\n",
              " 9689: 'managepy',\n",
              " 13799: 'runserver',\n",
              " 9690: 'managepy runserver',\n",
              " 13854: 'saving',\n",
              " 6460: 'frames',\n",
              " 13862: 'saving multiple',\n",
              " 10286: 'multiple data',\n",
              " 3922: 'data frames',\n",
              " 13511: 'return function',\n",
              " 3097: 'compilation',\n",
              " 6443: 'found',\n",
              " 3098: 'compilation error',\n",
              " 5415: 'error type',\n",
              " 16264: 'type namespace',\n",
              " 10523: 'namespace name',\n",
              " 3555: 'could found',\n",
              " 11517: 'parsecom',\n",
              " 9136: 'libgdx',\n",
              " 7686: 'implementation',\n",
              " 7542: 'iframe',\n",
              " 12116: 'position',\n",
              " 597: 'adding',\n",
              " 8503: 'javascript adding',\n",
              " 618: 'adding text',\n",
              " 15775: 'text image',\n",
              " 7651: 'image using',\n",
              " 16845: 'using canvas',\n",
              " 13847: 'save value',\n",
              " 17174: 'value drop',\n",
              " 2170: 'calculate',\n",
              " 3536: 'correlation',\n",
              " 13217: 'remove',\n",
              " 11153: 'ones',\n",
              " 11434: 'pandas',\n",
              " 12633: 'python pandas',\n",
              " 11247: 'optimizations',\n",
              " 1846: 'browser',\n",
              " 11709: 'perform',\n",
              " 13278: 'rendered',\n",
              " 4315: 'denied',\n",
              " 14292: 'service',\n",
              " 4276: 'delegate',\n",
              " 9617: 'mail client',\n",
              " 2832: 'client using',\n",
              " 3569: 'count',\n",
              " 4059: 'datagridview',\n",
              " 17262: 'values column',\n",
              " 2982: 'column datagridview',\n",
              " 4063: 'datagridview column',\n",
              " 13903: 'scipy',\n",
              " 1875: 'build',\n",
              " 11296: 'osx',\n",
              " 9595: 'mac osx',\n",
              " 8198: 'ip',\n",
              " 624: 'address',\n",
              " 9760: 'mask',\n",
              " 15811: 'textbox',\n",
              " 8199: 'ip address',\n",
              " 17391: 'vbnet',\n",
              " 3058: 'commands',\n",
              " 8382: 'java library',\n",
              " 14092: 'selected',\n",
              " 2909: 'codebehind',\n",
              " 6849: 'get selected',\n",
              " 14108: 'selected value',\n",
              " 17235: 'value text',\n",
              " 15774: 'text html',\n",
              " 7403: 'html select',\n",
              " 13457: 'restrict',\n",
              " 8688: 'jqgrid',\n",
              " 15806: 'textarea',\n",
              " 7222: 'height',\n",
              " 7076: 'grid',\n",
              " 15478: 'swift 3',\n",
              " 5034: 'editor',\n",
              " 14232: 'serialization',\n",
              " 18230: 'xml serialization',\n",
              " 5712: 'extend',\n",
              " 8328: 'java class',\n",
              " 2732: 'class one',\n",
              " 5571: 'exceptions',\n",
              " 7131: 'guidelines',\n",
              " 16450: 'understand',\n",
              " 15749: 'testng',\n",
              " 15425: 'suite',\n",
              " 3196: 'configure',\n",
              " 17734: 'webpage',\n",
              " 5537: 'excel data',\n",
              " 11455: 'parameter',\n",
              " 11354: 'owin',\n",
              " 7327: 'host',\n",
              " 11577: 'pass parameter',\n",
              " 13851: 'saved',\n",
              " 12856: 'rake',\n",
              " 5436: 'errors',\n",
              " 9423: 'loading',\n",
              " 8962: 'kind',\n",
              " 10389: 'mutex',\n",
              " 2182: 'calculation',\n",
              " 5242: 'entities',\n",
              " 9252: 'linq entities',\n",
              " 5243: 'entities query',\n",
              " 4456: 'difference',\n",
              " 2877: 'cocos2dx',\n",
              " 9582: 'lua',\n",
              " 1702: 'binding',\n",
              " 13380: 'reset',\n",
              " 862: 'angularjs',\n",
              " 17413: 'verify',\n",
              " 1813: 'box',\n",
              " 2811: 'clicked',\n",
              " 2546: 'check box',\n",
              " 15302: 'structure',\n",
              " ...}"
            ]
          },
          "metadata": {
            "tags": []
          },
          "execution_count": 36
        }
      ]
    },
    {
      "cell_type": "markdown",
      "metadata": {
        "id": "j6IFQX_hM-sh",
        "colab_type": "text"
      },
      "source": [
        "### MultiLabel classifier\n",
        "\n",
        "As we have noticed before, in this task each example can have multiple tags. To deal with such kind of prediction, we need to transform labels in a binary form and the prediction will be a mask of 0s and 1s. For this purpose it is convenient to use [MultiLabelBinarizer](http://scikit-learn.org/stable/modules/generated/sklearn.preprocessing.MultiLabelBinarizer.html) from *sklearn*."
      ]
    },
    {
      "cell_type": "code",
      "metadata": {
        "id": "Qlsbz1uRM-si",
        "colab_type": "code",
        "colab": {}
      },
      "source": [
        "from sklearn.preprocessing import MultiLabelBinarizer"
      ],
      "execution_count": 0,
      "outputs": []
    },
    {
      "cell_type": "code",
      "metadata": {
        "id": "yp7pG1W4M-sm",
        "colab_type": "code",
        "colab": {}
      },
      "source": [
        "mlb = MultiLabelBinarizer(classes=sorted(tags_counts.keys()))\n",
        "y_train = mlb.fit_transform(y_train)\n",
        "y_val = mlb.fit_transform(y_val)"
      ],
      "execution_count": 0,
      "outputs": []
    },
    {
      "cell_type": "markdown",
      "metadata": {
        "id": "6N3VJwvuM-sq",
        "colab_type": "text"
      },
      "source": [
        "Implement the function *train_classifier* for training a classifier. In this task we suggest to use One-vs-Rest approach, which is implemented in [OneVsRestClassifier](http://scikit-learn.org/stable/modules/generated/sklearn.multiclass.OneVsRestClassifier.html) class. In this approach *k* classifiers (= number of tags) are trained. As a basic classifier, use [LogisticRegression](http://scikit-learn.org/stable/modules/generated/sklearn.linear_model.LogisticRegression.html). It is one of the simplest methods, but often it performs good enough in text classification tasks. It might take some time, because a number of classifiers to train is large."
      ]
    },
    {
      "cell_type": "code",
      "metadata": {
        "id": "RWecOm5LM-ss",
        "colab_type": "code",
        "colab": {}
      },
      "source": [
        "from sklearn.multiclass import OneVsRestClassifier\n",
        "from sklearn.linear_model import LogisticRegression, RidgeClassifier"
      ],
      "execution_count": 0,
      "outputs": []
    },
    {
      "cell_type": "code",
      "metadata": {
        "id": "x0_CUwkSM-sx",
        "colab_type": "code",
        "colab": {}
      },
      "source": [
        "def train_classifier(X_train, y_train):\n",
        "    \"\"\"\n",
        "      X_train, y_train — training data\n",
        "      \n",
        "      return: trained classifier\n",
        "    \"\"\"\n",
        "    \n",
        "    # Create and fit LogisticRegression wraped into OneVsRestClassifier.\n",
        "\n",
        "    ######################################\n",
        "    ######### YOUR CODE HERE #############\n",
        "    ######################################\n",
        "\n",
        "    cls = OneVsRestClassifier(LogisticRegression(n_jobs=-1))\n",
        "    cls.fit(X_train, y_train)\n",
        "    return cls\n",
        "\n",
        "\n"
      ],
      "execution_count": 0,
      "outputs": []
    },
    {
      "cell_type": "markdown",
      "metadata": {
        "id": "llrXSfcpM-sz",
        "colab_type": "text"
      },
      "source": [
        "Train the classifiers for different data transformations: *bag-of-words* and *tf-idf*."
      ]
    },
    {
      "cell_type": "code",
      "metadata": {
        "id": "dzfUiV-DM-s0",
        "colab_type": "code",
        "colab": {}
      },
      "source": [
        "classifier_mybag = train_classifier(X_train_mybag, y_train)\n",
        "classifier_tfidf = train_classifier(X_train_tfidf, y_train)"
      ],
      "execution_count": 0,
      "outputs": []
    },
    {
      "cell_type": "markdown",
      "metadata": {
        "id": "b1cQMjBHM-s4",
        "colab_type": "text"
      },
      "source": [
        "Now you can create predictions for the data. You will need two types of predictions: labels and scores."
      ]
    },
    {
      "cell_type": "code",
      "metadata": {
        "id": "HiJc5W9v9qtK",
        "colab_type": "code",
        "colab": {
          "base_uri": "https://localhost:8080/",
          "height": 185
        },
        "outputId": "7aef68a0-e3c9-4ef3-a3f2-333d9c6a8832"
      },
      "source": [
        "print(classifier_mybag)"
      ],
      "execution_count": 42,
      "outputs": [
        {
          "output_type": "stream",
          "text": [
            "OneVsRestClassifier(estimator=LogisticRegression(C=1.0, class_weight=None,\n",
            "                                                 dual=False, fit_intercept=True,\n",
            "                                                 intercept_scaling=1,\n",
            "                                                 l1_ratio=None, max_iter=100,\n",
            "                                                 multi_class='auto', n_jobs=-1,\n",
            "                                                 penalty='l2',\n",
            "                                                 random_state=None,\n",
            "                                                 solver='lbfgs', tol=0.0001,\n",
            "                                                 verbose=0, warm_start=False),\n",
            "                    n_jobs=None)\n"
          ],
          "name": "stdout"
        }
      ]
    },
    {
      "cell_type": "code",
      "metadata": {
        "id": "466iCZb8M-s4",
        "colab_type": "code",
        "colab": {}
      },
      "source": [
        "y_val_predicted_labels_mybag = classifier_mybag.predict(X_val_mybag)\n",
        "y_val_predicted_scores_mybag = classifier_mybag.decision_function(X_val_mybag)\n",
        "\n",
        "y_val_predicted_labels_tfidf = classifier_tfidf.predict(X_val_tfidf)\n",
        "y_val_predicted_scores_tfidf = classifier_tfidf.decision_function(X_val_tfidf)"
      ],
      "execution_count": 0,
      "outputs": []
    },
    {
      "cell_type": "markdown",
      "metadata": {
        "id": "Y5-a1TZFM-s7",
        "colab_type": "text"
      },
      "source": [
        "Now take a look at how classifier, which uses TF-IDF, works for a few examples:"
      ]
    },
    {
      "cell_type": "code",
      "metadata": {
        "id": "CSTpA5rPMI4r",
        "colab_type": "code",
        "colab": {
          "base_uri": "https://localhost:8080/",
          "height": 269
        },
        "outputId": "e88699eb-f189-4236-bc48-d543db340c2d"
      },
      "source": [
        "y_val_pred_inversed = mlb.inverse_transform(y_val_predicted_labels_mybag)\n",
        "y_val_inversed = mlb.inverse_transform(y_val)\n",
        "for i in range(3):\n",
        "    print('Title:\\t{}\\nTrue labels:\\t{}\\nPredicted labels:\\t{}\\n\\n'.format(\n",
        "        X_val[i],\n",
        "        ','.join(y_val_inversed[i]),\n",
        "        ','.join(y_val_pred_inversed[i])\n",
        "    ))"
      ],
      "execution_count": 57,
      "outputs": [
        {
          "output_type": "stream",
          "text": [
            "Title:\todbc_exec always fail\n",
            "True labels:\tphp,sql\n",
            "Predicted labels:\t\n",
            "\n",
            "\n",
            "Title:\taccess base classes variable within child class\n",
            "True labels:\tjavascript\n",
            "Predicted labels:\t\n",
            "\n",
            "\n",
            "Title:\tcontenttype application json required rails\n",
            "True labels:\truby,ruby-on-rails\n",
            "Predicted labels:\truby-on-rails\n",
            "\n",
            "\n"
          ],
          "name": "stdout"
        }
      ]
    },
    {
      "cell_type": "code",
      "metadata": {
        "id": "7OrTdiFIM-s8",
        "colab_type": "code",
        "colab": {
          "base_uri": "https://localhost:8080/",
          "height": 269
        },
        "outputId": "43d7240b-fd8c-47e1-e6dc-099988f1bd39"
      },
      "source": [
        "y_val_pred_inversed = mlb.inverse_transform(y_val_predicted_labels_tfidf)\n",
        "y_val_inversed = mlb.inverse_transform(y_val)\n",
        "for i in range(3):\n",
        "    print('Title:\\t{}\\nTrue labels:\\t{}\\nPredicted labels:\\t{}\\n\\n'.format(\n",
        "        X_val[i],\n",
        "        ','.join(y_val_inversed[i]),\n",
        "        ','.join(y_val_pred_inversed[i])\n",
        "    ))"
      ],
      "execution_count": 44,
      "outputs": [
        {
          "output_type": "stream",
          "text": [
            "Title:\todbc_exec always fail\n",
            "True labels:\tphp,sql\n",
            "Predicted labels:\t\n",
            "\n",
            "\n",
            "Title:\taccess base classes variable within child class\n",
            "True labels:\tjavascript\n",
            "Predicted labels:\t\n",
            "\n",
            "\n",
            "Title:\tcontenttype application json required rails\n",
            "True labels:\truby,ruby-on-rails\n",
            "Predicted labels:\tjson,ruby-on-rails\n",
            "\n",
            "\n"
          ],
          "name": "stdout"
        }
      ]
    },
    {
      "cell_type": "markdown",
      "metadata": {
        "id": "M1g4RgH4M-s-",
        "colab_type": "text"
      },
      "source": [
        "Now, we would need to compare the results of different predictions, e.g. to see whether TF-IDF transformation helps or to try different regularization techniques in logistic regression. For all these experiments, we need to setup evaluation procedure. "
      ]
    },
    {
      "cell_type": "markdown",
      "metadata": {
        "id": "kX_3VBvLM-s_",
        "colab_type": "text"
      },
      "source": [
        "### Evaluation\n",
        "\n",
        "To evaluate the results we will use several classification metrics:\n",
        " - [Accuracy](http://scikit-learn.org/stable/modules/generated/sklearn.metrics.accuracy_score.html)\n",
        " - [F1-score](http://scikit-learn.org/stable/modules/generated/sklearn.metrics.f1_score.html)\n",
        " - [Area under ROC-curve](http://scikit-learn.org/stable/modules/generated/sklearn.metrics.roc_auc_score.html)\n",
        " - [Area under precision-recall curve](http://scikit-learn.org/stable/modules/generated/sklearn.metrics.average_precision_score.html#sklearn.metrics.average_precision_score) \n",
        " \n",
        "Make sure you are familiar with all of them. How would you expect the things work for the multi-label scenario? Read about micro/macro/weighted averaging following the sklearn links provided above."
      ]
    },
    {
      "cell_type": "code",
      "metadata": {
        "id": "Ic9B5eu0M-s_",
        "colab_type": "code",
        "colab": {}
      },
      "source": [
        "from sklearn.metrics import accuracy_score\n",
        "from sklearn.metrics import f1_score\n",
        "from sklearn.metrics import roc_auc_score \n",
        "from sklearn.metrics import average_precision_score\n",
        "from sklearn.metrics import recall_score"
      ],
      "execution_count": 0,
      "outputs": []
    },
    {
      "cell_type": "markdown",
      "metadata": {
        "id": "zMmvruBvM-tC",
        "colab_type": "text"
      },
      "source": [
        "Implement the function *print_evaluation_scores* which calculates and prints to stdout:\n",
        " - *accuracy*\n",
        " - *F1-score macro/micro/weighted*\n",
        " - *Precision macro/micro/weighted*"
      ]
    },
    {
      "cell_type": "code",
      "metadata": {
        "id": "gKyFnwggM-tC",
        "colab_type": "code",
        "colab": {}
      },
      "source": [
        "def print_evaluation_scores(y_val, predicted):\n",
        "    \n",
        "    ######################################\n",
        "    ######### YOUR CODE HERE #############\n",
        "    ######################################\n",
        "    print(\"acc\",accuracy_score(y_val, predicted))\n",
        "    print(\"f1\",f1_score(y_val, predicted,average='weighted'))\n",
        "    print(\"roc\",roc_auc_score(y_val, predicted))\n",
        "    print(\"avs\",average_precision_score(y_val, predicted,average='weighted'))\n",
        "    print(\"recall\",recall_score(y_val, predicted,average='weighted'))"
      ],
      "execution_count": 0,
      "outputs": []
    },
    {
      "cell_type": "code",
      "metadata": {
        "id": "sKxTOv0WM-tH",
        "colab_type": "code",
        "colab": {
          "base_uri": "https://localhost:8080/",
          "height": 218
        },
        "outputId": "5d6c1d5a-0178-4fcb-efe9-fcd7bacca951"
      },
      "source": [
        "print('Bag-of-words')\n",
        "print_evaluation_scores(y_val, y_val_predicted_labels_mybag)\n",
        "print('Tfidf')\n",
        "print_evaluation_scores(y_val, y_val_predicted_labels_tfidf)"
      ],
      "execution_count": 47,
      "outputs": [
        {
          "output_type": "stream",
          "text": [
            "Bag-of-words\n",
            "acc 0.35063333333333335\n",
            "f1 0.6425487163776303\n",
            "roc 0.7023727708666745\n",
            "avs 0.5037002967672534\n",
            "recall 0.5465219620577679\n",
            "Tfidf\n",
            "acc 0.32843333333333335\n",
            "f1 0.6087650487177211\n",
            "roc 0.6677297440269802\n",
            "avs 0.47926716537811653\n",
            "recall 0.4962912322679884\n"
          ],
          "name": "stdout"
        }
      ]
    },
    {
      "cell_type": "markdown",
      "metadata": {
        "id": "4H25xMGgM-tL",
        "colab_type": "text"
      },
      "source": [
        "You might also want to plot some generalization of the [ROC curve](http://scikit-learn.org/stable/modules/model_evaluation.html#receiver-operating-characteristic-roc) for the case of multi-label classification. Provided function *roc_auc* can make it for you. The input parameters of this function are:\n",
        " - true labels\n",
        " - decision functions scores\n",
        " - number of classes"
      ]
    },
    {
      "cell_type": "code",
      "metadata": {
        "id": "IQT7Cqh3IOhW",
        "colab_type": "code",
        "colab": {
          "base_uri": "https://localhost:8080/",
          "height": 50
        },
        "outputId": "cd856a12-e5e6-4332-d7b8-0003de06be50"
      },
      "source": [
        "!pip install roc_auc"
      ],
      "execution_count": 51,
      "outputs": [
        {
          "output_type": "stream",
          "text": [
            "\u001b[31mERROR: Could not find a version that satisfies the requirement roc_auc (from versions: none)\u001b[0m\n",
            "\u001b[31mERROR: No matching distribution found for roc_auc\u001b[0m\n"
          ],
          "name": "stdout"
        }
      ]
    },
    {
      "cell_type": "code",
      "metadata": {
        "id": "hq8dmPK0M-tM",
        "colab_type": "code",
        "colab": {
          "base_uri": "https://localhost:8080/",
          "height": 313
        },
        "outputId": "ecbc7900-9009-4e46-e1cd-b0255f382fb0"
      },
      "source": [
        "from metrics import roc_auc\n",
        "%matplotlib inline"
      ],
      "execution_count": 50,
      "outputs": [
        {
          "output_type": "error",
          "ename": "ImportError",
          "evalue": "ignored",
          "traceback": [
            "\u001b[0;31m---------------------------------------------------------------------------\u001b[0m",
            "\u001b[0;31mImportError\u001b[0m                               Traceback (most recent call last)",
            "\u001b[0;32m<ipython-input-50-9af935e9acdd>\u001b[0m in \u001b[0;36m<module>\u001b[0;34m()\u001b[0m\n\u001b[0;32m----> 1\u001b[0;31m \u001b[0;32mfrom\u001b[0m \u001b[0mmetrics\u001b[0m \u001b[0;32mimport\u001b[0m \u001b[0mroc_auc\u001b[0m\u001b[0;34m\u001b[0m\u001b[0;34m\u001b[0m\u001b[0m\n\u001b[0m\u001b[1;32m      2\u001b[0m \u001b[0mget_ipython\u001b[0m\u001b[0;34m(\u001b[0m\u001b[0;34m)\u001b[0m\u001b[0;34m.\u001b[0m\u001b[0mmagic\u001b[0m\u001b[0;34m(\u001b[0m\u001b[0;34m'matplotlib inline'\u001b[0m\u001b[0;34m)\u001b[0m\u001b[0;34m\u001b[0m\u001b[0;34m\u001b[0m\u001b[0m\n",
            "\u001b[0;31mImportError\u001b[0m: cannot import name 'roc_auc'",
            "",
            "\u001b[0;31m---------------------------------------------------------------------------\u001b[0;32m\nNOTE: If your import is failing due to a missing package, you can\nmanually install dependencies using either !pip or !apt.\n\nTo view examples of installing some common dependencies, click the\n\"Open Examples\" button below.\n\u001b[0;31m---------------------------------------------------------------------------\u001b[0m\n"
          ]
        }
      ]
    },
    {
      "cell_type": "code",
      "metadata": {
        "id": "nf_FCuQ0M-tO",
        "colab_type": "code",
        "colab": {}
      },
      "source": [
        "n_classes = len(tags_counts)\n",
        "roc_auc(y_val, y_val_predicted_scores_mybag, n_classes)"
      ],
      "execution_count": 0,
      "outputs": []
    },
    {
      "cell_type": "code",
      "metadata": {
        "id": "YG7cp5qUM-tR",
        "colab_type": "code",
        "colab": {}
      },
      "source": [
        "n_classes = len(tags_counts)\n",
        "roc_auc(y_val, y_val_predicted_scores_tfidf, n_classes)"
      ],
      "execution_count": 0,
      "outputs": []
    },
    {
      "cell_type": "markdown",
      "metadata": {
        "id": "bQr5AwI_M-tT",
        "colab_type": "text"
      },
      "source": [
        "**Task 4 (MultilabelClassification).** Once we have the evaluation set up, we suggest that you experiment a bit with training your classifiers. We will use *F1-score weighted* as an evaluation metric. Our recommendation:\n",
        "- compare the quality of the bag-of-words and TF-IDF approaches and chose one of them.\n",
        "- for the chosen one, try *L1* and *L2*-regularization techniques in Logistic Regression with different coefficients (e.g. C equal to 0.1, 1, 10, 100).\n",
        "\n",
        "You also could try other improvements of the preprocessing / model, if you want. "
      ]
    },
    {
      "cell_type": "code",
      "metadata": {
        "id": "3mfUy_yzM-tU",
        "colab_type": "code",
        "colab": {}
      },
      "source": [
        "######################################\n",
        "######### YOUR CODE HERE #############\n",
        "######################################"
      ],
      "execution_count": 0,
      "outputs": []
    },
    {
      "cell_type": "markdown",
      "metadata": {
        "id": "Xzcl-CDHM-tW",
        "colab_type": "text"
      },
      "source": [
        "When you are happy with the quality, create predictions for *test* set, which you will submit to Coursera."
      ]
    },
    {
      "cell_type": "code",
      "metadata": {
        "id": "BDFnQUOYM-tX",
        "colab_type": "code",
        "colab": {
          "base_uri": "https://localhost:8080/",
          "height": 168
        },
        "outputId": "d3aae0ea-5bf4-4acd-c79a-2c63538f16b2"
      },
      "source": [
        "test_predictions = classifier_mybag.predict(X_test_mybag)\n",
        "test_pred_inversed = mlb.inverse_transform(test_predictions)\n",
        "\n",
        "test_predictions_for_submission = '\\n'.join('%i\\t%s' % (i, ','.join(row)) for i, row in enumerate(test_pred_inversed))\n",
        "grader.submit_tag('MultilabelClassification', test_predictions_for_submission)"
      ],
      "execution_count": 58,
      "outputs": [
        {
          "output_type": "stream",
          "text": [
            "Current answer for task MultilabelClassification is:\n",
            " 0\tmysql,php\n",
            "1\tjavascript\n",
            "2\t\n",
            "3\tjavascript,jquery\n",
            "4\tandroid,java\n",
            "5\tphp,xml\n",
            "6\tajax,json,web-services\n",
            "7\t...\n"
          ],
          "name": "stdout"
        }
      ]
    },
    {
      "cell_type": "markdown",
      "metadata": {
        "id": "0gpXRseLM-tY",
        "colab_type": "text"
      },
      "source": [
        "### Analysis of the most important features"
      ]
    },
    {
      "cell_type": "markdown",
      "metadata": {
        "id": "PzqraNGYM-tY",
        "colab_type": "text"
      },
      "source": [
        "Finally, it is usually a good idea to look at the features (words or n-grams) that are used with the largest weigths in your logistic regression model."
      ]
    },
    {
      "cell_type": "markdown",
      "metadata": {
        "id": "SdmeiMdKM-tZ",
        "colab_type": "text"
      },
      "source": [
        "Implement the function *print_words_for_tag* to find them. Get back to sklearn documentation on [OneVsRestClassifier](http://scikit-learn.org/stable/modules/generated/sklearn.multiclass.OneVsRestClassifier.html) and [LogisticRegression](http://scikit-learn.org/stable/modules/generated/sklearn.linear_model.LogisticRegression.html) if needed."
      ]
    },
    {
      "cell_type": "code",
      "metadata": {
        "id": "_W2XZR9YM-tZ",
        "colab_type": "code",
        "colab": {}
      },
      "source": [
        "def print_words_for_tag(classifier, tag, tags_classes, index_to_words, all_words):\n",
        "    \"\"\"\n",
        "        classifier: trained classifier\n",
        "        tag: particular tag\n",
        "        tags_classes: a list of classes names from MultiLabelBinarizer\n",
        "        index_to_words: index_to_words transformation\n",
        "        all_words: all words in the dictionary\n",
        "        \n",
        "        return nothing, just print top 5 positive and top 5 negative words for current tag\n",
        "    \"\"\"\n",
        "    print('Tag:\\t{}'.format(tag))\n",
        "    \n",
        "    # Extract an estimator from the classifier for the given tag.\n",
        "    # Extract feature coefficients from the estimator. \n",
        "    \n",
        "    ######################################\n",
        "    ######### YOUR CODE HERE #############\n",
        "    ######################################\n",
        "    \n",
        "    top_positive_words = # top-5 words sorted by the coefficiens.\n",
        "    top_negative_words = # bottom-5 words  sorted by the coefficients.\n",
        "    print('Top positive words:\\t{}'.format(', '.join(top_positive_words)))\n",
        "    print('Top negative words:\\t{}\\n'.format(', '.join(top_negative_words)))"
      ],
      "execution_count": 0,
      "outputs": []
    },
    {
      "cell_type": "code",
      "metadata": {
        "id": "K7ISqPIsM-tb",
        "colab_type": "code",
        "colab": {}
      },
      "source": [
        "print_words_for_tag(classifier_tfidf, 'c', mlb.classes, tfidf_reversed_vocab, ALL_WORDS)\n",
        "print_words_for_tag(classifier_tfidf, 'c++', mlb.classes, tfidf_reversed_vocab, ALL_WORDS)\n",
        "print_words_for_tag(classifier_tfidf, 'linux', mlb.classes, tfidf_reversed_vocab, ALL_WORDS)"
      ],
      "execution_count": 0,
      "outputs": []
    },
    {
      "cell_type": "markdown",
      "metadata": {
        "id": "ZGMp7X9YM-tc",
        "colab_type": "text"
      },
      "source": [
        "### Authorization & Submission\n",
        "To submit assignment parts to Cousera platform, please, enter your e-mail and token into variables below. You can generate token on this programming assignment page. <b>Note:</b> Token expires 30 minutes after generation."
      ]
    },
    {
      "cell_type": "code",
      "metadata": {
        "id": "pbyOwjOOM-td",
        "colab_type": "code",
        "colab": {
          "base_uri": "https://localhost:8080/",
          "height": 353
        },
        "outputId": "e7512ea8-a8fa-4812-bbe8-465a0718a0ed"
      },
      "source": [
        "grader.status()"
      ],
      "execution_count": 59,
      "outputs": [
        {
          "output_type": "stream",
          "text": [
            "You want to submit these parts:\n",
            "Task TextPrepare:\n",
            " sqlite php readonly\n",
            "creating multiple textboxes dynamically\n",
            "self one prefer javascript\n",
            "save php date...\n",
            "Task WordsTagsCount:\n",
            " javascript,c#,java\n",
            "using,c,php...\n",
            "Task BagOfWords:\n",
            " 7...\n",
            "Task MultilabelClassification:\n",
            " 0\tmysql,php\n",
            "1\tjavascript\n",
            "2\t\n",
            "3\tjavascript,jquery\n",
            "4\tandroid,java\n",
            "5\tphp,xml\n",
            "6\tajax,json,web-services\n",
            "7\t...\n"
          ],
          "name": "stdout"
        }
      ]
    },
    {
      "cell_type": "code",
      "metadata": {
        "id": "aSUd67MrM-th",
        "colab_type": "code",
        "colab": {
          "base_uri": "https://localhost:8080/",
          "height": 353
        },
        "outputId": "6e088687-f1df-4727-ba71-88a3b670087a"
      },
      "source": [
        "STUDENT_EMAIL = \"dr_rpg25@yahoo.com\"\n",
        "STUDENT_TOKEN = \"wfc6mnPgqKNWDDcw\" \n",
        "grader.status()"
      ],
      "execution_count": 60,
      "outputs": [
        {
          "output_type": "stream",
          "text": [
            "You want to submit these parts:\n",
            "Task TextPrepare:\n",
            " sqlite php readonly\n",
            "creating multiple textboxes dynamically\n",
            "self one prefer javascript\n",
            "save php date...\n",
            "Task WordsTagsCount:\n",
            " javascript,c#,java\n",
            "using,c,php...\n",
            "Task BagOfWords:\n",
            " 7...\n",
            "Task MultilabelClassification:\n",
            " 0\tmysql,php\n",
            "1\tjavascript\n",
            "2\t\n",
            "3\tjavascript,jquery\n",
            "4\tandroid,java\n",
            "5\tphp,xml\n",
            "6\tajax,json,web-services\n",
            "7\t...\n"
          ],
          "name": "stdout"
        }
      ]
    },
    {
      "cell_type": "markdown",
      "metadata": {
        "id": "fF4x5DrWM-ti",
        "colab_type": "text"
      },
      "source": [
        "If you want to submit these answers, run cell below"
      ]
    },
    {
      "cell_type": "code",
      "metadata": {
        "id": "BMoJw_SZM-tj",
        "colab_type": "code",
        "colab": {
          "base_uri": "https://localhost:8080/",
          "height": 34
        },
        "outputId": "4c6f4b43-f6c2-4dd7-ecff-1309083f9f60"
      },
      "source": [
        "grader.submit(STUDENT_EMAIL, STUDENT_TOKEN)"
      ],
      "execution_count": 61,
      "outputs": [
        {
          "output_type": "stream",
          "text": [
            "Submitted to Coursera platform. See results on assignment page!\n"
          ],
          "name": "stdout"
        }
      ]
    }
  ]
}